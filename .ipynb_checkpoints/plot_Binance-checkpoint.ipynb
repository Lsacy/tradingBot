{
 "cells": [
  {
   "cell_type": "code",
   "execution_count": 1,
   "metadata": {},
   "outputs": [],
   "source": [
    "import plotly.offline as py\n",
    "import plotly.graph_objs as go"
   ]
  },
  {
   "cell_type": "code",
   "execution_count": 18,
   "metadata": {},
   "outputs": [],
   "source": [
    "%run binancePrice.ipynb"
   ]
  },
  {
   "cell_type": "code",
   "execution_count": 23,
   "metadata": {},
   "outputs": [],
   "source": [
    "table_trace = go.Table(\n",
    "    domain=dict(x=[0,0.5],\n",
    "                y=[0,1.0]),\n",
    "    columnwidth=[30]+[33,35,33],\n",
    "    columnorder=[0,1,2,3,4],\n",
    "    header=dict(height=50,\n",
    "                values=[['<b>Date</b>'],['<b>open price</b>'],['<b>high price</b>'],\n",
    "                        ['<b>low price</b>'],['<b>close price</b>'],['<b>volume</b>'],['<b>number of trades</b>']],\n",
    "                line=dict(color='rgb(50,50,50)'),\n",
    "                align=['left']*5,\n",
    "                font = dict(color=['rgb(45,45,45)'] * 5, size =14),\n",
    "                fill = dict(color='rgb(135,193,238)')\n",
    "               ),\n",
    "    cells=dict(values=[binance_price().index[:],binance_price()['open'],\n",
    "                       binance_price()['high'],\n",
    "                       binance_price()['low'],\n",
    "                       binance_price()['close'],\n",
    "                       binance_price()['volume'],\n",
    "                       binance_price()['trade_number']\n",
    "                      ],\n",
    "               line=dict(color='#106784'),\n",
    "               align=['left']*5,\n",
    "               font=dict(color=['rgb(45,45,45)']*5,size=12),\n",
    "               format = [None] + [',.2f'] *2 + [',.4f'],\n",
    "               suffix = [None] * 4, \n",
    "               height = 27,\n",
    "               fill = dict(color=['rgb(135,193,238)','rgba(128,222,249,0.65)'])))"
   ]
  },
  {
   "cell_type": "code",
   "execution_count": null,
   "metadata": {},
   "outputs": [],
   "source": [
    "trace =go.Ohlc(x=binance_price().index[:],\n",
    "               open = binance_price()['open'],\n",
    "               close = binance_price()['close'],\n",
    "               high = binance_price()['high'],\n",
    "               low = binance_price()['low'])"
   ]
  },
  {
   "cell_type": "code",
   "execution_count": null,
   "metadata": {},
   "outputs": [],
   "source": [
    "trace2 = go.Scatter(\n",
    "    x = binance_price().index[:],\n",
    "    y = binance_price()\n",
    "    xaxis = \n",
    "    yaxis = \n",
    "    line = dict(width = 2, color = ))"
   ]
  },
  {
   "cell_type": "code",
   "execution_count": 24,
   "metadata": {},
   "outputs": [
    {
     "data": {
      "text/plain": [
       "'table.html'"
      ]
     },
     "execution_count": 24,
     "metadata": {},
     "output_type": "execute_result"
    }
   ],
   "source": [
    "fig = dict(data=[table_trace])\n",
    "py.plot(fig,filename = 'table.html')"
   ]
  },
  {
   "cell_type": "code",
   "execution_count": null,
   "metadata": {},
   "outputs": [],
   "source": []
  }
 ],
 "metadata": {
  "kernelspec": {
   "display_name": "Python 3",
   "language": "python",
   "name": "python3"
  },
  "language_info": {
   "codemirror_mode": {
    "name": "ipython",
    "version": 3
   },
   "file_extension": ".py",
   "mimetype": "text/x-python",
   "name": "python",
   "nbconvert_exporter": "python",
   "pygments_lexer": "ipython3",
   "version": "3.7.9"
  }
 },
 "nbformat": 4,
 "nbformat_minor": 4
}
