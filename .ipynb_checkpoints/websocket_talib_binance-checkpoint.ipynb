{
 "cells": [
  {
   "cell_type": "code",
   "execution_count": 1,
   "metadata": {},
   "outputs": [],
   "source": [
    "# Binance HMC SHA256 (Spielgeld)\n",
    "apikey = 'un5yL1gmZeQf4Gt5L6Us2q3BjdwDrqzjkTDrjFT2LA8N8BblIaTP4XMi3ydrKgWU'\n",
    "secretkey ='hHi3oZegL9IGxvdpGUB6fz6XFcwtBXHXJHQtVL8wt5MupfWdQok0bZ2kyFV50fP7'"
   ]
  },
  {
   "cell_type": "code",
   "execution_count": 2,
   "metadata": {},
   "outputs": [],
   "source": [
    "import talib\n",
    "import json\n",
    "import pprint\n",
    "from binance.enums import *\n",
    "from binance.client import Client\n",
    "import websocket\n",
    "import numpy as np\n",
    "import os"
   ]
  },
  {
   "cell_type": "code",
   "execution_count": 3,
   "metadata": {},
   "outputs": [],
   "source": [
    "api_key = os.environ.get('PUBLIC_KEY')\n",
    "secret_key = os.environ.get('SECRET_KEY')"
   ]
  },
  {
   "cell_type": "code",
   "execution_count": 4,
   "metadata": {},
   "outputs": [],
   "source": [
    "client = Client(api_key=api_key, api_secret=secret_key, tld='com')"
   ]
  },
  {
   "cell_type": "code",
   "execution_count": 5,
   "metadata": {},
   "outputs": [],
   "source": [
    "rsi_period = 14\n",
    "rsi_overbought = 70\n",
    "rsi_oversold = 30\n",
    "trade_symbol = 'ethusd'\n",
    "trade_quantity = 0.01\n"
   ]
  },
  {
   "cell_type": "code",
   "execution_count": 6,
   "metadata": {},
   "outputs": [],
   "source": [
    "# creating socket connection to binance with the type of coin and price interval (etherium, 1 min)\n",
    "SOCKET = 'wss://stream.binance.com:9443/ws/ethusdt@kline_1m'"
   ]
  },
  {
   "cell_type": "code",
   "execution_count": 7,
   "metadata": {},
   "outputs": [],
   "source": [
    "def order(symbol,  quantity, side, order_type=ORDER_TYPE_MARKET):\n",
    "    try:\n",
    "        print('sending order')\n",
    "        order = client.create_order(symbol=symbol,\n",
    "                               side=side,\n",
    "                               type=order_type,\n",
    "                               quantity=quantity)\n",
    "        print(order)\n",
    "    except Exception as e:\n",
    "        print('an exception occured - {}'.format(e))\n",
    "        return False\n",
    "    \n",
    "    return True"
   ]
  },
  {
   "cell_type": "code",
   "execution_count": 8,
   "metadata": {},
   "outputs": [],
   "source": [
    "closes = []\n",
    "in_position = False"
   ]
  },
  {
   "cell_type": "code",
   "execution_count": 31,
   "metadata": {},
   "outputs": [],
   "source": [
    "def on_open(ws):\n",
    "    print('opened connection')\n",
    "    \n",
    "def on_close(ws):\n",
    "    print('closed connection')\n",
    "    \n",
    "def on_message(ws, message):\n",
    "    global closes, in_position\n",
    "    print('received message')\n",
    "    json_message = json.loads(message)\n",
    "    \n",
    "    candle = json_message['k']\n",
    "    is_candle_closed = candle['x']\n",
    "    close = candle['c']\n",
    "    \n",
    "    if is_candle_closed == True:\n",
    "        pprint.pprint(json_message)\n",
    "        print('candle closed at {}'.format(close))\n",
    "        closes.append(float(close))\n",
    "        print('closes')\n",
    "        print(closes)\n",
    "    if len(closes) > rsi_period:\n",
    "        np_closes = np.array(closes)\n",
    "        rsi = talib.RSI(np_closes, rsi_period)\n",
    "        print('all rsis calculated so far')\n",
    "        print(rsi)\n",
    "        last_rsi = rsi[-1]\n",
    "        print('the current rsi is {}'.format(last_rsi))\n",
    "\n",
    "        if last_rsi>rsi_overbough:\n",
    "            if in_position:\n",
    "                print('SELL!')\n",
    "                # put binance sell logic here\n",
    "                order_succeeded= order(SIDE_SELL, trade_quantity, trade_symbol)\n",
    "                if order_succeeded:\n",
    "                    in_position = False\n",
    "            else: \n",
    "                print('it is overbought, but don\\'t own any. nothing to do')\n",
    "\n",
    "        if last_rsi<rsi_oversold:\n",
    "            if in_position:\n",
    "                print('it is oversold, but you already own it, so nothing to do.')\n",
    "            else:\n",
    "                print('buy!')\n",
    "                # put binance order logic here\n",
    "                order_succeeded= order(SIDE_BUY, trade_quantity, trade_symbol)\n",
    "                if order_succeeded:\n",
    "                    in_position= True\n"
   ]
  },
  {
   "cell_type": "code",
   "execution_count": null,
   "metadata": {},
   "outputs": [],
   "source": []
  },
  {
   "cell_type": "code",
   "execution_count": 18,
   "metadata": {},
   "outputs": [
    {
     "data": {
      "text/plain": [
       "[]"
      ]
     },
     "execution_count": 18,
     "metadata": {},
     "output_type": "execute_result"
    }
   ],
   "source": [
    "closes"
   ]
  },
  {
   "cell_type": "code",
   "execution_count": 33,
   "metadata": {},
   "outputs": [],
   "source": [
    "ws = websocket.WebSocketApp(SOCKET, on_open=on_open, on_close=on_close, on_message=on_message)"
   ]
  },
  {
   "cell_type": "code",
   "execution_count": 34,
   "metadata": {},
   "outputs": [
    {
     "name": "stdout",
     "output_type": "stream",
     "text": [
      "opened connection\n",
      "received message\n",
      "candle close?  False\n",
      "received message\n",
      "candle close?  False\n",
      "received message\n",
      "candle close?  False\n",
      "received message\n",
      "candle close?  False\n",
      "received message\n",
      "candle close?  False\n",
      "received message\n",
      "candle close?  False\n",
      "received message\n",
      "candle close?  False\n",
      "received message\n",
      "candle close?  False\n",
      "received message\n",
      "candle close?  False\n",
      "received message\n",
      "candle close?  False\n",
      "received message\n",
      "candle close?  False\n",
      "received message\n",
      "candle close?  False\n",
      "received message\n",
      "candle close?  False\n",
      "received message\n",
      "candle close?  False\n",
      "received message\n",
      "candle close?  False\n",
      "received message\n",
      "candle close?  True\n",
      "{'E': 1601941500124,\n",
      " 'e': 'kline',\n",
      " 'k': {'B': '0',\n",
      "       'L': 194117523,\n",
      "       'Q': '27405.48995080',\n",
      "       'T': 1601941499999,\n",
      "       'V': '77.60044000',\n",
      "       'c': '353.18000000',\n",
      "       'f': 194117396,\n",
      "       'h': '353.41000000',\n",
      "       'i': '1m',\n",
      "       'l': '352.98000000',\n",
      "       'n': 128,\n",
      "       'o': '353.41000000',\n",
      "       'q': '101832.12631130',\n",
      "       's': 'ETHUSDT',\n",
      "       't': 1601941440000,\n",
      "       'v': '288.35626000',\n",
      "       'x': True},\n",
      " 's': 'ETHUSDT'}\n",
      "candle closed at 353.18000000\n",
      "closes\n",
      "[353.18]\n",
      "received message\n",
      "candle close?  False\n",
      "received message\n",
      "candle close?  False\n",
      "closed connection\n"
     ]
    },
    {
     "data": {
      "text/plain": [
       "False"
      ]
     },
     "execution_count": 34,
     "metadata": {},
     "output_type": "execute_result"
    }
   ],
   "source": [
    "ws.run_forever()"
   ]
  },
  {
   "cell_type": "code",
   "execution_count": null,
   "metadata": {},
   "outputs": [],
   "source": []
  }
 ],
 "metadata": {
  "kernelspec": {
   "display_name": "Python 3",
   "language": "python",
   "name": "python3"
  },
  "language_info": {
   "codemirror_mode": {
    "name": "ipython",
    "version": 3
   },
   "file_extension": ".py",
   "mimetype": "text/x-python",
   "name": "python",
   "nbconvert_exporter": "python",
   "pygments_lexer": "ipython3",
   "version": "3.7.9"
  }
 },
 "nbformat": 4,
 "nbformat_minor": 4
}
