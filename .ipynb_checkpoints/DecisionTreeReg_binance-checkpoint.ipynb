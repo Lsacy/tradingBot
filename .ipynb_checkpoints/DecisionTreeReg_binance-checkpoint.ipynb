{
 "cells": [
  {
   "cell_type": "code",
   "execution_count": 1,
   "metadata": {},
   "outputs": [],
   "source": [
    "import numpy as np\n",
    "import pandas as pd\n",
    "from sklearn.tree import DecisionTreeRegressor\n",
    "from sklearn.linear_model import LinearRegression\n",
    "from sklearn.model_selection import train_test_split\n",
    "import matplotlib.pyplot as plt\n",
    "plt.style.use('bmh')"
   ]
  },
  {
   "cell_type": "code",
   "execution_count": 2,
   "metadata": {},
   "outputs": [],
   "source": [
    "df = pd.read_csv('binance_ETHEUR.csv')"
   ]
  },
  {
   "cell_type": "code",
   "execution_count": 4,
   "metadata": {},
   "outputs": [
    {
     "data": {
      "text/plain": [
       "datetime            object\n",
       "open               float64\n",
       "high               float64\n",
       "low                float64\n",
       "close              float64\n",
       "volume             float64\n",
       "close_time           int64\n",
       "asset_volume       float64\n",
       "trade_number         int64\n",
       "taker_buy_base     float64\n",
       "taker_buy_quote    float64\n",
       "dtype: object"
      ]
     },
     "execution_count": 4,
     "metadata": {},
     "output_type": "execute_result"
    }
   ],
   "source": [
    "df.dtypes"
   ]
  },
  {
   "cell_type": "code",
   "execution_count": 5,
   "metadata": {},
   "outputs": [
    {
     "data": {
      "text/html": [
       "<div>\n",
       "<style scoped>\n",
       "    .dataframe tbody tr th:only-of-type {\n",
       "        vertical-align: middle;\n",
       "    }\n",
       "\n",
       "    .dataframe tbody tr th {\n",
       "        vertical-align: top;\n",
       "    }\n",
       "\n",
       "    .dataframe thead th {\n",
       "        text-align: right;\n",
       "    }\n",
       "</style>\n",
       "<table border=\"1\" class=\"dataframe\">\n",
       "  <thead>\n",
       "    <tr style=\"text-align: right;\">\n",
       "      <th></th>\n",
       "      <th>datetime</th>\n",
       "      <th>open</th>\n",
       "      <th>high</th>\n",
       "      <th>low</th>\n",
       "      <th>close</th>\n",
       "      <th>volume</th>\n",
       "      <th>close_time</th>\n",
       "      <th>asset_volume</th>\n",
       "      <th>trade_number</th>\n",
       "      <th>taker_buy_base</th>\n",
       "      <th>taker_buy_quote</th>\n",
       "    </tr>\n",
       "  </thead>\n",
       "  <tbody>\n",
       "    <tr>\n",
       "      <th>0</th>\n",
       "      <td>2020-10-06 17:49:00</td>\n",
       "      <td>298.99</td>\n",
       "      <td>298.99</td>\n",
       "      <td>298.99</td>\n",
       "      <td>298.99</td>\n",
       "      <td>0.81991</td>\n",
       "      <td>1601999399999</td>\n",
       "      <td>245.144891</td>\n",
       "      <td>4</td>\n",
       "      <td>0.00000</td>\n",
       "      <td>0.000000</td>\n",
       "    </tr>\n",
       "    <tr>\n",
       "      <th>1</th>\n",
       "      <td>2020-10-06 17:50:00</td>\n",
       "      <td>299.24</td>\n",
       "      <td>299.25</td>\n",
       "      <td>299.24</td>\n",
       "      <td>299.25</td>\n",
       "      <td>0.50726</td>\n",
       "      <td>1601999459999</td>\n",
       "      <td>151.793185</td>\n",
       "      <td>2</td>\n",
       "      <td>0.50726</td>\n",
       "      <td>151.793185</td>\n",
       "    </tr>\n",
       "  </tbody>\n",
       "</table>\n",
       "</div>"
      ],
      "text/plain": [
       "              datetime    open    high     low   close   volume  \\\n",
       "0  2020-10-06 17:49:00  298.99  298.99  298.99  298.99  0.81991   \n",
       "1  2020-10-06 17:50:00  299.24  299.25  299.24  299.25  0.50726   \n",
       "\n",
       "      close_time  asset_volume  trade_number  taker_buy_base  taker_buy_quote  \n",
       "0  1601999399999    245.144891             4         0.00000         0.000000  \n",
       "1  1601999459999    151.793185             2         0.50726       151.793185  "
      ]
     },
     "execution_count": 5,
     "metadata": {},
     "output_type": "execute_result"
    }
   ],
   "source": [
    "df.head(2)"
   ]
  },
  {
   "cell_type": "code",
   "execution_count": null,
   "metadata": {},
   "outputs": [],
   "source": []
  }
 ],
 "metadata": {
  "kernelspec": {
   "display_name": "Python 3",
   "language": "python",
   "name": "python3"
  },
  "language_info": {
   "codemirror_mode": {
    "name": "ipython",
    "version": 3
   },
   "file_extension": ".py",
   "mimetype": "text/x-python",
   "name": "python",
   "nbconvert_exporter": "python",
   "pygments_lexer": "ipython3",
   "version": "3.7.9"
  }
 },
 "nbformat": 4,
 "nbformat_minor": 4
}
