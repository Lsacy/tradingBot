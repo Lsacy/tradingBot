{
 "cells": [
  {
   "cell_type": "code",
   "execution_count": 12,
   "metadata": {},
   "outputs": [],
   "source": [
    "from binance.client import Client\n",
    "from datetime import datetime\n",
    "from pandas import DataFrame as df\n",
    "import os"
   ]
  },
  {
   "cell_type": "code",
   "execution_count": 13,
   "metadata": {},
   "outputs": [],
   "source": [
    "api_key = os.environ.get('PUBLIC_KEY')\n",
    "secret_key = os.environ.get('SECRET_KEY')"
   ]
  },
  {
   "cell_type": "code",
   "execution_count": 14,
   "metadata": {},
   "outputs": [],
   "source": [
    "coin = 'ETHEUR'"
   ]
  },
  {
   "cell_type": "code",
   "execution_count": 15,
   "metadata": {},
   "outputs": [],
   "source": [
    "def binance_price():\n",
    "    client = Client(api_key=api_key, api_secret=secret_key)\n",
    "\n",
    "    candles = client.get_klines(symbol=f'{coin}', interval=Client.KLINE_INTERVAL_1HOUR)\n",
    "\n",
    "    candlesDF = df(candles)\n",
    "\n",
    "\n",
    "    candlesDF_date = candlesDF[0]\n",
    "    final_date = []\n",
    "\n",
    "    candlesDF.pop(0)\n",
    "    candlesDF.pop(11)\n",
    "\n",
    "    print(candlesDF.dtypes)\n",
    "\n",
    "    for times in candlesDF_date:\n",
    "        readable = datetime.fromtimestamp(int(times/1000))\n",
    "        final_date.append(readable)\n",
    "\n",
    "    len(final_date)\n",
    "\n",
    "    final_dateDF=df(final_date)\n",
    "\n",
    "    final_dateDF.columns=['datetime']\n",
    "\n",
    "    candlesDF_final = candlesDF.join(final_dateDF)\n",
    "\n",
    "    candlesDF_final.set_index('datetime',inplace=True)\n",
    "    \n",
    "    candlesDF_final.columns=['open','high','low','close','volume','close_time','asset_volume','trade_number','taker_buy_base','taker_buy_quote']\n",
    "    \n",
    "    return candlesDF_final.to_csv(f'binance_{coin}.csv', index=True)"
   ]
  },
  {
   "cell_type": "code",
   "execution_count": 16,
   "metadata": {},
   "outputs": [
    {
     "name": "stdout",
     "output_type": "stream",
     "text": [
      "1     object\n",
      "2     object\n",
      "3     object\n",
      "4     object\n",
      "5     object\n",
      "6      int64\n",
      "7     object\n",
      "8      int64\n",
      "9     object\n",
      "10    object\n",
      "dtype: object\n"
     ]
    }
   ],
   "source": [
    "binance_price()"
   ]
  },
  {
   "cell_type": "code",
   "execution_count": null,
   "metadata": {},
   "outputs": [],
   "source": []
  }
 ],
 "metadata": {
  "kernelspec": {
   "display_name": "Python 3",
   "language": "python",
   "name": "python3"
  },
  "language_info": {
   "codemirror_mode": {
    "name": "ipython",
    "version": 3
   },
   "file_extension": ".py",
   "mimetype": "text/x-python",
   "name": "python",
   "nbconvert_exporter": "python",
   "pygments_lexer": "ipython3",
   "version": "3.7.9"
  }
 },
 "nbformat": 4,
 "nbformat_minor": 4
}
