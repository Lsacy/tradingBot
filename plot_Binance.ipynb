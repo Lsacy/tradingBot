{
 "cells": [
  {
   "cell_type": "code",
   "execution_count": 4,
   "metadata": {},
   "outputs": [],
   "source": [
    "import plotly.offline as py\n",
    "import plotly.graph_objs as go"
   ]
  },
  {
   "cell_type": "code",
   "execution_count": 8,
   "metadata": {},
   "outputs": [
    {
     "name": "stdout",
     "output_type": "stream",
     "text": [
      "1     object\n",
      "2     object\n",
      "3     object\n",
      "4     object\n",
      "5     object\n",
      "6      int64\n",
      "7     object\n",
      "8      int64\n",
      "9     object\n",
      "10    object\n",
      "dtype: object\n"
     ]
    }
   ],
   "source": [
    "%run api_binancePrice.ipynb\n",
    "# import binancePrice"
   ]
  },
  {
   "cell_type": "code",
   "execution_count": 9,
   "metadata": {},
   "outputs": [
    {
     "name": "stdout",
     "output_type": "stream",
     "text": [
      "1     object\n",
      "2     object\n",
      "3     object\n",
      "4     object\n",
      "5     object\n",
      "6      int64\n",
      "7     object\n",
      "8      int64\n",
      "9     object\n",
      "10    object\n",
      "dtype: object\n"
     ]
    },
    {
     "ename": "AttributeError",
     "evalue": "'NoneType' object has no attribute 'index'",
     "output_type": "error",
     "traceback": [
      "\u001b[1;31m---------------------------------------------------------------------------\u001b[0m",
      "\u001b[1;31mAttributeError\u001b[0m                            Traceback (most recent call last)",
      "\u001b[1;32m<ipython-input-9-167c76c0b6ef>\u001b[0m in \u001b[0;36m<module>\u001b[1;34m\u001b[0m\n\u001b[0;32m     12\u001b[0m                 \u001b[0mfill\u001b[0m \u001b[1;33m=\u001b[0m \u001b[0mdict\u001b[0m\u001b[1;33m(\u001b[0m\u001b[0mcolor\u001b[0m\u001b[1;33m=\u001b[0m\u001b[1;34m'rgb(135,193,238)'\u001b[0m\u001b[1;33m)\u001b[0m\u001b[1;33m\u001b[0m\u001b[1;33m\u001b[0m\u001b[0m\n\u001b[0;32m     13\u001b[0m                ),\n\u001b[1;32m---> 14\u001b[1;33m     cells=dict(values=[binance_price().index[:],binance_price()['open'],\n\u001b[0m\u001b[0;32m     15\u001b[0m                        \u001b[0mbinance_price\u001b[0m\u001b[1;33m(\u001b[0m\u001b[1;33m)\u001b[0m\u001b[1;33m[\u001b[0m\u001b[1;34m'high'\u001b[0m\u001b[1;33m]\u001b[0m\u001b[1;33m,\u001b[0m\u001b[1;33m\u001b[0m\u001b[1;33m\u001b[0m\u001b[0m\n\u001b[0;32m     16\u001b[0m                        \u001b[0mbinance_price\u001b[0m\u001b[1;33m(\u001b[0m\u001b[1;33m)\u001b[0m\u001b[1;33m[\u001b[0m\u001b[1;34m'low'\u001b[0m\u001b[1;33m]\u001b[0m\u001b[1;33m,\u001b[0m\u001b[1;33m\u001b[0m\u001b[1;33m\u001b[0m\u001b[0m\n",
      "\u001b[1;31mAttributeError\u001b[0m: 'NoneType' object has no attribute 'index'"
     ]
    }
   ],
   "source": [
    "table_trace = go.Table(\n",
    "    domain=dict(x=[0,0.5],\n",
    "                y=[0,1.0]),\n",
    "    columnwidth=[30]+[33,35,33],\n",
    "    columnorder=[0,1,2,3,4],\n",
    "    header=dict(height=50,\n",
    "                values=[['<b>Date</b>'],['<b>open price</b>'],['<b>high price</b>'],\n",
    "                        ['<b>low price</b>'],['<b>close price</b>'],['<b>volume</b>'],['<b>number of trades</b>']],\n",
    "                line=dict(color='rgb(50,50,50)'),\n",
    "                align=['left']*5,\n",
    "                font = dict(color=['rgb(45,45,45)'] * 5, size =14),\n",
    "                fill = dict(color='rgb(135,193,238)')\n",
    "               ),\n",
    "    cells=dict(values=[binance_price().index[:],binance_price()['open'],\n",
    "                       binance_price()['high'],\n",
    "                       binance_price()['low'],\n",
    "                       binance_price()['close'],\n",
    "                       binance_price()['volume'],\n",
    "                       binance_price()['trade_number']\n",
    "                      ],\n",
    "               line=dict(color='#106784'),\n",
    "               align=['left']*5,\n",
    "               font=dict(color=['rgb(45,45,45)']*5,size=12),\n",
    "               format = [None] + [',.2f'] *2 + [',.4f'],\n",
    "               suffix = [None] * 4, \n",
    "               height = 27,\n",
    "               fill = dict(color=['rgb(135,193,238)','rgba(128,222,249,0.65)'])))"
   ]
  },
  {
   "cell_type": "code",
   "execution_count": 7,
   "metadata": {},
   "outputs": [
    {
     "name": "stdout",
     "output_type": "stream",
     "text": [
      "1     object\n",
      "2     object\n",
      "3     object\n",
      "4     object\n",
      "5     object\n",
      "6      int64\n",
      "7     object\n",
      "8      int64\n",
      "9     object\n",
      "10    object\n",
      "dtype: object\n"
     ]
    },
    {
     "ename": "AttributeError",
     "evalue": "'NoneType' object has no attribute 'index'",
     "output_type": "error",
     "traceback": [
      "\u001b[1;31m---------------------------------------------------------------------------\u001b[0m",
      "\u001b[1;31mAttributeError\u001b[0m                            Traceback (most recent call last)",
      "\u001b[1;32m<ipython-input-7-3ebb5ab4258e>\u001b[0m in \u001b[0;36m<module>\u001b[1;34m\u001b[0m\n\u001b[1;32m----> 1\u001b[1;33m trace =go.Ohlc(x=binance_price().index[:],\n\u001b[0m\u001b[0;32m      2\u001b[0m                \u001b[0mopen\u001b[0m \u001b[1;33m=\u001b[0m \u001b[0mbinance_price\u001b[0m\u001b[1;33m(\u001b[0m\u001b[1;33m)\u001b[0m\u001b[1;33m[\u001b[0m\u001b[1;34m'open'\u001b[0m\u001b[1;33m]\u001b[0m\u001b[1;33m,\u001b[0m\u001b[1;33m\u001b[0m\u001b[1;33m\u001b[0m\u001b[0m\n\u001b[0;32m      3\u001b[0m                \u001b[0mclose\u001b[0m \u001b[1;33m=\u001b[0m \u001b[0mbinance_price\u001b[0m\u001b[1;33m(\u001b[0m\u001b[1;33m)\u001b[0m\u001b[1;33m[\u001b[0m\u001b[1;34m'close'\u001b[0m\u001b[1;33m]\u001b[0m\u001b[1;33m,\u001b[0m\u001b[1;33m\u001b[0m\u001b[1;33m\u001b[0m\u001b[0m\n\u001b[0;32m      4\u001b[0m                \u001b[0mhigh\u001b[0m \u001b[1;33m=\u001b[0m \u001b[0mbinance_price\u001b[0m\u001b[1;33m(\u001b[0m\u001b[1;33m)\u001b[0m\u001b[1;33m[\u001b[0m\u001b[1;34m'high'\u001b[0m\u001b[1;33m]\u001b[0m\u001b[1;33m,\u001b[0m\u001b[1;33m\u001b[0m\u001b[1;33m\u001b[0m\u001b[0m\n\u001b[0;32m      5\u001b[0m                low = binance_price()['low'])\n",
      "\u001b[1;31mAttributeError\u001b[0m: 'NoneType' object has no attribute 'index'"
     ]
    }
   ],
   "source": [
    "trace =go.Ohlc(x=binance_price().index[:],\n",
    "               open = binance_price()['open'],\n",
    "               close = binance_price()['close'],\n",
    "               high = binance_price()['high'],\n",
    "               low = binance_price()['low'])"
   ]
  },
  {
   "cell_type": "code",
   "execution_count": null,
   "metadata": {},
   "outputs": [],
   "source": [
    "trace2 = go.Scatter(\n",
    "    x = binance_price().index[:],\n",
    "    y = binance_price()\n",
    "    xaxis = \n",
    "    yaxis = \n",
    "    line = dict(width = 2, color = ))"
   ]
  },
  {
   "cell_type": "code",
   "execution_count": null,
   "metadata": {},
   "outputs": [],
   "source": [
    "fig = dict(data=[table_trace])\n",
    "py.plot(fig,filename = 'table.html')"
   ]
  },
  {
   "cell_type": "code",
   "execution_count": null,
   "metadata": {},
   "outputs": [],
   "source": []
  }
 ],
 "metadata": {
  "kernelspec": {
   "display_name": "Python 3",
   "language": "python",
   "name": "python3"
  },
  "language_info": {
   "codemirror_mode": {
    "name": "ipython",
    "version": 3
   },
   "file_extension": ".py",
   "mimetype": "text/x-python",
   "name": "python",
   "nbconvert_exporter": "python",
   "pygments_lexer": "ipython3",
   "version": "3.7.9"
  }
 },
 "nbformat": 4,
 "nbformat_minor": 4
}
