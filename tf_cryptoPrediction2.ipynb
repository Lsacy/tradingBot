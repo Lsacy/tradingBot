{
 "cells": [
  {
   "cell_type": "code",
   "execution_count": 215,
   "metadata": {},
   "outputs": [],
   "source": [
    "from pandas_datareader import data\n",
    "import matplotlib.pyplot as plt\n",
    "import pandas as pd\n",
    "import datetime as dt\n",
    "import urllib.request, json\n",
    "import os\n",
    "import numpy as np\n",
    "import tensorflow as tf # This code has been tested with TensorFlow 1.6\n",
    "from sklearn.preprocessing import MinMaxScaler\n",
    "from sklearn.metrics import mean_squared_error\n",
    "from tensorflow.keras.models import Sequential\n",
    "from tensorflow.keras.layers import Dense, Dropout, LSTM, BatchNormalization\n",
    "plt.style.use('bmh')"
   ]
  },
  {
   "cell_type": "code",
   "execution_count": 183,
   "metadata": {},
   "outputs": [
    {
     "name": "stdout",
     "output_type": "stream",
     "text": [
      "1     object\n",
      "2     object\n",
      "3     object\n",
      "4     object\n",
      "5     object\n",
      "6      int64\n",
      "7     object\n",
      "8      int64\n",
      "9     object\n",
      "10    object\n",
      "dtype: object\n"
     ]
    },
    {
     "data": {
      "text/html": [
       "<div>\n",
       "<style scoped>\n",
       "    .dataframe tbody tr th:only-of-type {\n",
       "        vertical-align: middle;\n",
       "    }\n",
       "\n",
       "    .dataframe tbody tr th {\n",
       "        vertical-align: top;\n",
       "    }\n",
       "\n",
       "    .dataframe thead th {\n",
       "        text-align: right;\n",
       "    }\n",
       "</style>\n",
       "<table border=\"1\" class=\"dataframe\">\n",
       "  <thead>\n",
       "    <tr style=\"text-align: right;\">\n",
       "      <th></th>\n",
       "      <th>datetime</th>\n",
       "      <th>open</th>\n",
       "      <th>high</th>\n",
       "      <th>low</th>\n",
       "      <th>close</th>\n",
       "      <th>volume</th>\n",
       "      <th>close_time</th>\n",
       "      <th>asset_volume</th>\n",
       "      <th>trade_number</th>\n",
       "      <th>taker_buy_base</th>\n",
       "      <th>taker_buy_quote</th>\n",
       "    </tr>\n",
       "    <tr>\n",
       "      <th>datetime</th>\n",
       "      <th></th>\n",
       "      <th></th>\n",
       "      <th></th>\n",
       "      <th></th>\n",
       "      <th></th>\n",
       "      <th></th>\n",
       "      <th></th>\n",
       "      <th></th>\n",
       "      <th></th>\n",
       "      <th></th>\n",
       "      <th></th>\n",
       "    </tr>\n",
       "  </thead>\n",
       "  <tbody>\n",
       "    <tr>\n",
       "      <th>2020-10-08 13:00:00</th>\n",
       "      <td>2020-10-08 13:00:00</td>\n",
       "      <td>288.98</td>\n",
       "      <td>289.47</td>\n",
       "      <td>287.72</td>\n",
       "      <td>288.77</td>\n",
       "      <td>70.36547</td>\n",
       "      <td>1602158399999</td>\n",
       "      <td>20320.701324</td>\n",
       "      <td>95</td>\n",
       "      <td>52.31775</td>\n",
       "      <td>15120.344858</td>\n",
       "    </tr>\n",
       "    <tr>\n",
       "      <th>2020-10-08 14:00:00</th>\n",
       "      <td>2020-10-08 14:00:00</td>\n",
       "      <td>288.51</td>\n",
       "      <td>291.10</td>\n",
       "      <td>288.03</td>\n",
       "      <td>291.10</td>\n",
       "      <td>36.82582</td>\n",
       "      <td>1602161999999</td>\n",
       "      <td>10677.640454</td>\n",
       "      <td>88</td>\n",
       "      <td>33.02291</td>\n",
       "      <td>9576.258429</td>\n",
       "    </tr>\n",
       "    <tr>\n",
       "      <th>2020-10-08 15:00:00</th>\n",
       "      <td>2020-10-08 15:00:00</td>\n",
       "      <td>291.10</td>\n",
       "      <td>294.48</td>\n",
       "      <td>290.73</td>\n",
       "      <td>294.31</td>\n",
       "      <td>179.10913</td>\n",
       "      <td>1602165599999</td>\n",
       "      <td>52493.541486</td>\n",
       "      <td>227</td>\n",
       "      <td>138.04180</td>\n",
       "      <td>40428.117818</td>\n",
       "    </tr>\n",
       "    <tr>\n",
       "      <th>2020-10-08 16:00:00</th>\n",
       "      <td>2020-10-08 16:00:00</td>\n",
       "      <td>294.48</td>\n",
       "      <td>298.70</td>\n",
       "      <td>292.95</td>\n",
       "      <td>298.70</td>\n",
       "      <td>217.11933</td>\n",
       "      <td>1602169199999</td>\n",
       "      <td>64199.209964</td>\n",
       "      <td>338</td>\n",
       "      <td>168.18394</td>\n",
       "      <td>49737.617948</td>\n",
       "    </tr>\n",
       "    <tr>\n",
       "      <th>2020-10-08 17:00:00</th>\n",
       "      <td>2020-10-08 17:00:00</td>\n",
       "      <td>298.75</td>\n",
       "      <td>299.00</td>\n",
       "      <td>297.23</td>\n",
       "      <td>297.23</td>\n",
       "      <td>94.01831</td>\n",
       "      <td>1602172799999</td>\n",
       "      <td>28055.307619</td>\n",
       "      <td>136</td>\n",
       "      <td>73.41427</td>\n",
       "      <td>21913.220728</td>\n",
       "    </tr>\n",
       "  </tbody>\n",
       "</table>\n",
       "</div>"
      ],
      "text/plain": [
       "                               datetime    open    high     low   close  \\\n",
       "datetime                                                                  \n",
       "2020-10-08 13:00:00 2020-10-08 13:00:00  288.98  289.47  287.72  288.77   \n",
       "2020-10-08 14:00:00 2020-10-08 14:00:00  288.51  291.10  288.03  291.10   \n",
       "2020-10-08 15:00:00 2020-10-08 15:00:00  291.10  294.48  290.73  294.31   \n",
       "2020-10-08 16:00:00 2020-10-08 16:00:00  294.48  298.70  292.95  298.70   \n",
       "2020-10-08 17:00:00 2020-10-08 17:00:00  298.75  299.00  297.23  297.23   \n",
       "\n",
       "                        volume     close_time  asset_volume  trade_number  \\\n",
       "datetime                                                                    \n",
       "2020-10-08 13:00:00   70.36547  1602158399999  20320.701324            95   \n",
       "2020-10-08 14:00:00   36.82582  1602161999999  10677.640454            88   \n",
       "2020-10-08 15:00:00  179.10913  1602165599999  52493.541486           227   \n",
       "2020-10-08 16:00:00  217.11933  1602169199999  64199.209964           338   \n",
       "2020-10-08 17:00:00   94.01831  1602172799999  28055.307619           136   \n",
       "\n",
       "                     taker_buy_base  taker_buy_quote  \n",
       "datetime                                              \n",
       "2020-10-08 13:00:00        52.31775     15120.344858  \n",
       "2020-10-08 14:00:00        33.02291      9576.258429  \n",
       "2020-10-08 15:00:00       138.04180     40428.117818  \n",
       "2020-10-08 16:00:00       168.18394     49737.617948  \n",
       "2020-10-08 17:00:00        73.41427     21913.220728  "
      ]
     },
     "execution_count": 183,
     "metadata": {},
     "output_type": "execute_result"
    }
   ],
   "source": [
    "%run api_binancePrice.ipynb\n",
    "# import binancePrice\n",
    "df = pd.read_csv('binance_ETHEUR.csv')\n",
    "df['datetime'] = pd.to_datetime(df.datetime,format='%Y-%m-%d %H:%M:%S')\n",
    "df.index = df['datetime']\n",
    "df.tail()"
   ]
  },
  {
   "cell_type": "code",
   "execution_count": 218,
   "metadata": {},
   "outputs": [
    {
     "data": {
      "text/plain": [
       "[<matplotlib.lines.Line2D at 0x1d677c7c3c8>]"
      ]
     },
     "execution_count": 218,
     "metadata": {},
     "output_type": "execute_result"
    },
    {
     "data": {
      "image/png": "[encoded data removed]",
      "text/plain": [
       "<Figure size 1152x576 with 1 Axes>"
      ]
     },
     "metadata": {
      "needs_background": "light"
     },
     "output_type": "display_data"
    }
   ],
   "source": [
    "#visualize\n",
    "plt.figure(figsize=(16,8))\n",
    "plt.title('Etherium Price in Euro')\n",
    "plt.xlabel('Tickrate once every 1 hour')\n",
    "plt.ylabel('Close Price in Euro')\n",
    "plt.plot(df['close'])"
   ]
  },
  {
   "cell_type": "code",
   "execution_count": 219,
   "metadata": {},
   "outputs": [
    {
     "data": {
      "text/html": [
       "<div>\n",
       "<style scoped>\n",
       "    .dataframe tbody tr th:only-of-type {\n",
       "        vertical-align: middle;\n",
       "    }\n",
       "\n",
       "    .dataframe tbody tr th {\n",
       "        vertical-align: top;\n",
       "    }\n",
       "\n",
       "    .dataframe thead th {\n",
       "        text-align: right;\n",
       "    }\n",
       "</style>\n",
       "<table border=\"1\" class=\"dataframe\">\n",
       "  <thead>\n",
       "    <tr style=\"text-align: right;\">\n",
       "      <th></th>\n",
       "      <th>datetime</th>\n",
       "      <th>open</th>\n",
       "      <th>high</th>\n",
       "      <th>low</th>\n",
       "      <th>close</th>\n",
       "      <th>volume</th>\n",
       "      <th>close_time</th>\n",
       "      <th>asset_volume</th>\n",
       "      <th>trade_number</th>\n",
       "      <th>taker_buy_base</th>\n",
       "      <th>taker_buy_quote</th>\n",
       "      <th>returns</th>\n",
       "      <th>log_returns</th>\n",
       "    </tr>\n",
       "    <tr>\n",
       "      <th>datetime</th>\n",
       "      <th></th>\n",
       "      <th></th>\n",
       "      <th></th>\n",
       "      <th></th>\n",
       "      <th></th>\n",
       "      <th></th>\n",
       "      <th></th>\n",
       "      <th></th>\n",
       "      <th></th>\n",
       "      <th></th>\n",
       "      <th></th>\n",
       "      <th></th>\n",
       "      <th></th>\n",
       "    </tr>\n",
       "  </thead>\n",
       "  <tbody>\n",
       "    <tr>\n",
       "      <th>2020-09-17 23:00:00</th>\n",
       "      <td>2020-09-17 23:00:00</td>\n",
       "      <td>333.32</td>\n",
       "      <td>334.42</td>\n",
       "      <td>332.11</td>\n",
       "      <td>333.49</td>\n",
       "      <td>172.75082</td>\n",
       "      <td>1600379999999</td>\n",
       "      <td>57614.679143</td>\n",
       "      <td>163</td>\n",
       "      <td>102.06771</td>\n",
       "      <td>34075.128102</td>\n",
       "      <td>NaN</td>\n",
       "      <td>0.002913</td>\n",
       "    </tr>\n",
       "    <tr>\n",
       "      <th>2020-09-18 00:00:00</th>\n",
       "      <td>2020-09-18 00:00:00</td>\n",
       "      <td>333.42</td>\n",
       "      <td>333.61</td>\n",
       "      <td>328.10</td>\n",
       "      <td>328.66</td>\n",
       "      <td>139.97738</td>\n",
       "      <td>1600383599999</td>\n",
       "      <td>46280.287009</td>\n",
       "      <td>178</td>\n",
       "      <td>100.10222</td>\n",
       "      <td>33067.095465</td>\n",
       "      <td>-0.014483</td>\n",
       "      <td>-0.014589</td>\n",
       "    </tr>\n",
       "    <tr>\n",
       "      <th>2020-09-18 01:00:00</th>\n",
       "      <td>2020-09-18 01:00:00</td>\n",
       "      <td>329.03</td>\n",
       "      <td>331.51</td>\n",
       "      <td>328.97</td>\n",
       "      <td>330.84</td>\n",
       "      <td>87.69673</td>\n",
       "      <td>1600387199999</td>\n",
       "      <td>28935.421988</td>\n",
       "      <td>101</td>\n",
       "      <td>59.78995</td>\n",
       "      <td>19736.993195</td>\n",
       "      <td>0.006633</td>\n",
       "      <td>0.006611</td>\n",
       "    </tr>\n",
       "    <tr>\n",
       "      <th>2020-09-18 02:00:00</th>\n",
       "      <td>2020-09-18 02:00:00</td>\n",
       "      <td>330.55</td>\n",
       "      <td>332.74</td>\n",
       "      <td>327.82</td>\n",
       "      <td>327.89</td>\n",
       "      <td>36.97020</td>\n",
       "      <td>1600390799999</td>\n",
       "      <td>12210.116147</td>\n",
       "      <td>67</td>\n",
       "      <td>28.28552</td>\n",
       "      <td>9349.888550</td>\n",
       "      <td>-0.008917</td>\n",
       "      <td>-0.008957</td>\n",
       "    </tr>\n",
       "    <tr>\n",
       "      <th>2020-09-18 03:00:00</th>\n",
       "      <td>2020-09-18 03:00:00</td>\n",
       "      <td>328.44</td>\n",
       "      <td>328.89</td>\n",
       "      <td>326.71</td>\n",
       "      <td>327.55</td>\n",
       "      <td>22.57869</td>\n",
       "      <td>1600394399999</td>\n",
       "      <td>7399.999454</td>\n",
       "      <td>48</td>\n",
       "      <td>17.83705</td>\n",
       "      <td>5846.267732</td>\n",
       "      <td>-0.001037</td>\n",
       "      <td>-0.001037</td>\n",
       "    </tr>\n",
       "  </tbody>\n",
       "</table>\n",
       "</div>"
      ],
      "text/plain": [
       "                               datetime    open    high     low   close  \\\n",
       "datetime                                                                  \n",
       "2020-09-17 23:00:00 2020-09-17 23:00:00  333.32  334.42  332.11  333.49   \n",
       "2020-09-18 00:00:00 2020-09-18 00:00:00  333.42  333.61  328.10  328.66   \n",
       "2020-09-18 01:00:00 2020-09-18 01:00:00  329.03  331.51  328.97  330.84   \n",
       "2020-09-18 02:00:00 2020-09-18 02:00:00  330.55  332.74  327.82  327.89   \n",
       "2020-09-18 03:00:00 2020-09-18 03:00:00  328.44  328.89  326.71  327.55   \n",
       "\n",
       "                        volume     close_time  asset_volume  trade_number  \\\n",
       "datetime                                                                    \n",
       "2020-09-17 23:00:00  172.75082  1600379999999  57614.679143           163   \n",
       "2020-09-18 00:00:00  139.97738  1600383599999  46280.287009           178   \n",
       "2020-09-18 01:00:00   87.69673  1600387199999  28935.421988           101   \n",
       "2020-09-18 02:00:00   36.97020  1600390799999  12210.116147            67   \n",
       "2020-09-18 03:00:00   22.57869  1600394399999   7399.999454            48   \n",
       "\n",
       "                     taker_buy_base  taker_buy_quote   returns  log_returns  \n",
       "datetime                                                                     \n",
       "2020-09-17 23:00:00       102.06771     34075.128102       NaN     0.002913  \n",
       "2020-09-18 00:00:00       100.10222     33067.095465 -0.014483    -0.014589  \n",
       "2020-09-18 01:00:00        59.78995     19736.993195  0.006633     0.006611  \n",
       "2020-09-18 02:00:00        28.28552      9349.888550 -0.008917    -0.008957  \n",
       "2020-09-18 03:00:00        17.83705      5846.267732 -0.001037    -0.001037  "
      ]
     },
     "execution_count": 219,
     "metadata": {},
     "output_type": "execute_result"
    }
   ],
   "source": [
    "# calculate the percentage change, benefit of normalization, returns have more managable statistical properties \n",
    "df['returns'] = df.close.pct_change()\n",
    "df.head()"
   ]
  },
  {
   "cell_type": "code",
   "execution_count": 220,
   "metadata": {},
   "outputs": [
    {
     "data": {
      "text/html": [
       "<div>\n",
       "<style scoped>\n",
       "    .dataframe tbody tr th:only-of-type {\n",
       "        vertical-align: middle;\n",
       "    }\n",
       "\n",
       "    .dataframe tbody tr th {\n",
       "        vertical-align: top;\n",
       "    }\n",
       "\n",
       "    .dataframe thead th {\n",
       "        text-align: right;\n",
       "    }\n",
       "</style>\n",
       "<table border=\"1\" class=\"dataframe\">\n",
       "  <thead>\n",
       "    <tr style=\"text-align: right;\">\n",
       "      <th></th>\n",
       "      <th>datetime</th>\n",
       "      <th>open</th>\n",
       "      <th>high</th>\n",
       "      <th>low</th>\n",
       "      <th>close</th>\n",
       "      <th>volume</th>\n",
       "      <th>close_time</th>\n",
       "      <th>asset_volume</th>\n",
       "      <th>trade_number</th>\n",
       "      <th>taker_buy_base</th>\n",
       "      <th>taker_buy_quote</th>\n",
       "      <th>returns</th>\n",
       "      <th>log_returns</th>\n",
       "    </tr>\n",
       "    <tr>\n",
       "      <th>datetime</th>\n",
       "      <th></th>\n",
       "      <th></th>\n",
       "      <th></th>\n",
       "      <th></th>\n",
       "      <th></th>\n",
       "      <th></th>\n",
       "      <th></th>\n",
       "      <th></th>\n",
       "      <th></th>\n",
       "      <th></th>\n",
       "      <th></th>\n",
       "      <th></th>\n",
       "      <th></th>\n",
       "    </tr>\n",
       "  </thead>\n",
       "  <tbody>\n",
       "    <tr>\n",
       "      <th>2020-09-17 23:00:00</th>\n",
       "      <td>2020-09-17 23:00:00</td>\n",
       "      <td>333.32</td>\n",
       "      <td>334.42</td>\n",
       "      <td>332.11</td>\n",
       "      <td>333.49</td>\n",
       "      <td>172.75082</td>\n",
       "      <td>1600379999999</td>\n",
       "      <td>57614.679143</td>\n",
       "      <td>163</td>\n",
       "      <td>102.06771</td>\n",
       "      <td>34075.128102</td>\n",
       "      <td>NaN</td>\n",
       "      <td>NaN</td>\n",
       "    </tr>\n",
       "    <tr>\n",
       "      <th>2020-09-18 00:00:00</th>\n",
       "      <td>2020-09-18 00:00:00</td>\n",
       "      <td>333.42</td>\n",
       "      <td>333.61</td>\n",
       "      <td>328.10</td>\n",
       "      <td>328.66</td>\n",
       "      <td>139.97738</td>\n",
       "      <td>1600383599999</td>\n",
       "      <td>46280.287009</td>\n",
       "      <td>178</td>\n",
       "      <td>100.10222</td>\n",
       "      <td>33067.095465</td>\n",
       "      <td>-0.014483</td>\n",
       "      <td>-0.014589</td>\n",
       "    </tr>\n",
       "    <tr>\n",
       "      <th>2020-09-18 01:00:00</th>\n",
       "      <td>2020-09-18 01:00:00</td>\n",
       "      <td>329.03</td>\n",
       "      <td>331.51</td>\n",
       "      <td>328.97</td>\n",
       "      <td>330.84</td>\n",
       "      <td>87.69673</td>\n",
       "      <td>1600387199999</td>\n",
       "      <td>28935.421988</td>\n",
       "      <td>101</td>\n",
       "      <td>59.78995</td>\n",
       "      <td>19736.993195</td>\n",
       "      <td>0.006633</td>\n",
       "      <td>0.006611</td>\n",
       "    </tr>\n",
       "    <tr>\n",
       "      <th>2020-09-18 02:00:00</th>\n",
       "      <td>2020-09-18 02:00:00</td>\n",
       "      <td>330.55</td>\n",
       "      <td>332.74</td>\n",
       "      <td>327.82</td>\n",
       "      <td>327.89</td>\n",
       "      <td>36.97020</td>\n",
       "      <td>1600390799999</td>\n",
       "      <td>12210.116147</td>\n",
       "      <td>67</td>\n",
       "      <td>28.28552</td>\n",
       "      <td>9349.888550</td>\n",
       "      <td>-0.008917</td>\n",
       "      <td>-0.008957</td>\n",
       "    </tr>\n",
       "    <tr>\n",
       "      <th>2020-09-18 03:00:00</th>\n",
       "      <td>2020-09-18 03:00:00</td>\n",
       "      <td>328.44</td>\n",
       "      <td>328.89</td>\n",
       "      <td>326.71</td>\n",
       "      <td>327.55</td>\n",
       "      <td>22.57869</td>\n",
       "      <td>1600394399999</td>\n",
       "      <td>7399.999454</td>\n",
       "      <td>48</td>\n",
       "      <td>17.83705</td>\n",
       "      <td>5846.267732</td>\n",
       "      <td>-0.001037</td>\n",
       "      <td>-0.001037</td>\n",
       "    </tr>\n",
       "  </tbody>\n",
       "</table>\n",
       "</div>"
      ],
      "text/plain": [
       "                               datetime    open    high     low   close  \\\n",
       "datetime                                                                  \n",
       "2020-09-17 23:00:00 2020-09-17 23:00:00  333.32  334.42  332.11  333.49   \n",
       "2020-09-18 00:00:00 2020-09-18 00:00:00  333.42  333.61  328.10  328.66   \n",
       "2020-09-18 01:00:00 2020-09-18 01:00:00  329.03  331.51  328.97  330.84   \n",
       "2020-09-18 02:00:00 2020-09-18 02:00:00  330.55  332.74  327.82  327.89   \n",
       "2020-09-18 03:00:00 2020-09-18 03:00:00  328.44  328.89  326.71  327.55   \n",
       "\n",
       "                        volume     close_time  asset_volume  trade_number  \\\n",
       "datetime                                                                    \n",
       "2020-09-17 23:00:00  172.75082  1600379999999  57614.679143           163   \n",
       "2020-09-18 00:00:00  139.97738  1600383599999  46280.287009           178   \n",
       "2020-09-18 01:00:00   87.69673  1600387199999  28935.421988           101   \n",
       "2020-09-18 02:00:00   36.97020  1600390799999  12210.116147            67   \n",
       "2020-09-18 03:00:00   22.57869  1600394399999   7399.999454            48   \n",
       "\n",
       "                     taker_buy_base  taker_buy_quote   returns  log_returns  \n",
       "datetime                                                                     \n",
       "2020-09-17 23:00:00       102.06771     34075.128102       NaN          NaN  \n",
       "2020-09-18 00:00:00       100.10222     33067.095465 -0.014483    -0.014589  \n",
       "2020-09-18 01:00:00        59.78995     19736.993195  0.006633     0.006611  \n",
       "2020-09-18 02:00:00        28.28552      9349.888550 -0.008917    -0.008957  \n",
       "2020-09-18 03:00:00        17.83705      5846.267732 -0.001037    -0.001037  "
      ]
     },
     "execution_count": 220,
     "metadata": {},
     "output_type": "execute_result"
    }
   ],
   "source": [
    "# use log return when it comes to time series when we try to predict some price. assuming log normality, (prices are normally distributed)\n",
    "# when returns are very small, log returns ensures prices are close in valut to raw returns\n",
    "df['log_returns'] = np.log(1+df['returns'])\n",
    "df.head()"
   ]
  },
  {
   "cell_type": "code",
   "execution_count": 221,
   "metadata": {},
   "outputs": [
    {
     "data": {
      "text/plain": [
       "[<matplotlib.lines.Line2D at 0x1d677cc8fc8>]"
      ]
     },
     "execution_count": 221,
     "metadata": {},
     "output_type": "execute_result"
    },
    {
     "data": {
      "image/png": "[encoded data removed]",
      "text/plain": [
       "<Figure size 432x288 with 1 Axes>"
      ]
     },
     "metadata": {
      "needs_background": "light"
     },
     "output_type": "display_data"
    }
   ],
   "source": [
    "plt.figure(1)\n",
    "plt.plot(df.log_returns)\n",
    "# mean is constant, revolves around zero"
   ]
  },
  {
   "cell_type": "code",
   "execution_count": 222,
   "metadata": {},
   "outputs": [],
   "source": [
    "df.dropna(inplace=True)"
   ]
  },
  {
   "cell_type": "code",
   "execution_count": 223,
   "metadata": {},
   "outputs": [
    {
     "data": {
      "text/plain": [
       "498"
      ]
     },
     "execution_count": 223,
     "metadata": {},
     "output_type": "execute_result"
    }
   ],
   "source": [
    "len(df)"
   ]
  },
  {
   "cell_type": "code",
   "execution_count": 224,
   "metadata": {},
   "outputs": [],
   "source": [
    "x = df[['close','log_returns']].values"
   ]
  },
  {
   "cell_type": "code",
   "execution_count": 225,
   "metadata": {},
   "outputs": [],
   "source": [
    "# because features are in different scales, we use minmaxScaler to normalize the data\n",
    "scaler = MinMaxScaler(feature_range=(0,1)).fit(x)\n",
    "x_scaled=scaler.transform(x)"
   ]
  },
  {
   "cell_type": "code",
   "execution_count": 226,
   "metadata": {},
   "outputs": [
    {
     "data": {
      "text/plain": [
       "array([[0.96002201, 0.33392831],\n",
       "       [1.        , 0.74621121],\n",
       "       [0.94590134, 0.44346252],\n",
       "       [0.93966624, 0.59746858],\n",
       "       [0.96680726, 0.7053163 ]])"
      ]
     },
     "execution_count": 226,
     "metadata": {},
     "output_type": "execute_result"
    }
   ],
   "source": [
    "x_scaled[:5]"
   ]
  },
  {
   "cell_type": "code",
   "execution_count": 227,
   "metadata": {},
   "outputs": [
    {
     "data": {
      "text/plain": [
       "[0.9600220062351017, 1.0, 0.9459013387126358]"
      ]
     },
     "execution_count": 227,
     "metadata": {},
     "output_type": "execute_result"
    }
   ],
   "source": [
    "# y is the target/output\n",
    "y = [x[0] for x in x_scaled]\n",
    "y[:3]"
   ]
  },
  {
   "cell_type": "markdown",
   "metadata": {},
   "source": [
    "Train test split with 80/20, split NOT randomly due to time series"
   ]
  },
  {
   "cell_type": "code",
   "execution_count": 228,
   "metadata": {},
   "outputs": [
    {
     "name": "stdout",
     "output_type": "stream",
     "text": [
      "398\n"
     ]
    }
   ],
   "source": [
    "split = int(len(x_scaled) * 0.8)\n",
    "print(split)"
   ]
  },
  {
   "cell_type": "code",
   "execution_count": 229,
   "metadata": {},
   "outputs": [],
   "source": [
    "x_train = x_scaled[:split]\n",
    "x_test = x_scaled[split:len(x_scaled)]\n",
    "y_train = y[:split]\n",
    "y_test = y[split:len(y)]"
   ]
  },
  {
   "cell_type": "code",
   "execution_count": 230,
   "metadata": {},
   "outputs": [],
   "source": [
    "# checking if those splits are equal\n",
    "assert len(x_train) == len(y_train)\n",
    "assert len(x_test) == len(y_test)"
   ]
  },
  {
   "cell_type": "code",
   "execution_count": 231,
   "metadata": {},
   "outputs": [],
   "source": [
    "# use lstm (long short term memory) to process data in a sequential way. \n",
    "# lstm needs number of observations (sample), time steps, features (x)\n",
    "# set a time step to calculate y at t=1, up until now our target y is just a copy of x.\n",
    "\n",
    "timestep = 3\n",
    "xtrain = []\n",
    "ytrain = []\n",
    "xtest = []\n",
    "ytest = []\n",
    "for i in range(timestep, len(x_train)):\n",
    "    # 3, 4, 5, .... 398\n",
    "    xtrain.append(x_train[i-timestep:i,:x_train.shape[1]])\n",
    "    ytrain.append(y_train[i])\n",
    "for i in range(timestep, len(x_test)):\n",
    "    xtest.append(x_test[i-timestep:i,:x_train.shape[1]])\n",
    "    ytest.append(y_test[i])\n",
    "    "
   ]
  },
  {
   "cell_type": "code",
   "execution_count": 232,
   "metadata": {},
   "outputs": [
    {
     "data": {
      "text/plain": [
       "array([[0.96002201, 0.33392831],\n",
       "       [1.        , 0.74621121],\n",
       "       [0.94590134, 0.44346252]])"
      ]
     },
     "execution_count": 232,
     "metadata": {},
     "output_type": "execute_result"
    }
   ],
   "source": [
    "xtrain[0]"
   ]
  },
  {
   "cell_type": "code",
   "execution_count": 233,
   "metadata": {},
   "outputs": [
    {
     "data": {
      "text/plain": [
       "0.9396662387676518"
      ]
     },
     "execution_count": 233,
     "metadata": {},
     "output_type": "execute_result"
    }
   ],
   "source": [
    "ytrain[0]"
   ]
  },
  {
   "cell_type": "code",
   "execution_count": 234,
   "metadata": {},
   "outputs": [
    {
     "data": {
      "text/plain": [
       "array([[ 3.27550000e+02, -3.17601815e-02]])"
      ]
     },
     "execution_count": 234,
     "metadata": {},
     "output_type": "execute_result"
    }
   ],
   "source": [
    "# original value of ytrain, and double check with df.head()\n",
    "val = np.array(ytrain[0])\n",
    "val = np.c_[val, np.zeros(val.shape)]\n",
    "scaler.inverse_transform(val)"
   ]
  },
  {
   "cell_type": "code",
   "execution_count": 235,
   "metadata": {},
   "outputs": [
    {
     "data": {
      "text/html": [
       "<div>\n",
       "<style scoped>\n",
       "    .dataframe tbody tr th:only-of-type {\n",
       "        vertical-align: middle;\n",
       "    }\n",
       "\n",
       "    .dataframe tbody tr th {\n",
       "        vertical-align: top;\n",
       "    }\n",
       "\n",
       "    .dataframe thead th {\n",
       "        text-align: right;\n",
       "    }\n",
       "</style>\n",
       "<table border=\"1\" class=\"dataframe\">\n",
       "  <thead>\n",
       "    <tr style=\"text-align: right;\">\n",
       "      <th></th>\n",
       "      <th>datetime</th>\n",
       "      <th>open</th>\n",
       "      <th>high</th>\n",
       "      <th>low</th>\n",
       "      <th>close</th>\n",
       "      <th>volume</th>\n",
       "      <th>close_time</th>\n",
       "      <th>asset_volume</th>\n",
       "      <th>trade_number</th>\n",
       "      <th>taker_buy_base</th>\n",
       "      <th>taker_buy_quote</th>\n",
       "      <th>returns</th>\n",
       "      <th>log_returns</th>\n",
       "    </tr>\n",
       "    <tr>\n",
       "      <th>datetime</th>\n",
       "      <th></th>\n",
       "      <th></th>\n",
       "      <th></th>\n",
       "      <th></th>\n",
       "      <th></th>\n",
       "      <th></th>\n",
       "      <th></th>\n",
       "      <th></th>\n",
       "      <th></th>\n",
       "      <th></th>\n",
       "      <th></th>\n",
       "      <th></th>\n",
       "      <th></th>\n",
       "    </tr>\n",
       "  </thead>\n",
       "  <tbody>\n",
       "    <tr>\n",
       "      <th>2020-09-18 00:00:00</th>\n",
       "      <td>2020-09-18 00:00:00</td>\n",
       "      <td>333.42</td>\n",
       "      <td>333.61</td>\n",
       "      <td>328.10</td>\n",
       "      <td>328.66</td>\n",
       "      <td>139.97738</td>\n",
       "      <td>1600383599999</td>\n",
       "      <td>46280.287009</td>\n",
       "      <td>178</td>\n",
       "      <td>100.10222</td>\n",
       "      <td>33067.095465</td>\n",
       "      <td>-0.014483</td>\n",
       "      <td>-0.014589</td>\n",
       "    </tr>\n",
       "    <tr>\n",
       "      <th>2020-09-18 01:00:00</th>\n",
       "      <td>2020-09-18 01:00:00</td>\n",
       "      <td>329.03</td>\n",
       "      <td>331.51</td>\n",
       "      <td>328.97</td>\n",
       "      <td>330.84</td>\n",
       "      <td>87.69673</td>\n",
       "      <td>1600387199999</td>\n",
       "      <td>28935.421988</td>\n",
       "      <td>101</td>\n",
       "      <td>59.78995</td>\n",
       "      <td>19736.993195</td>\n",
       "      <td>0.006633</td>\n",
       "      <td>0.006611</td>\n",
       "    </tr>\n",
       "    <tr>\n",
       "      <th>2020-09-18 02:00:00</th>\n",
       "      <td>2020-09-18 02:00:00</td>\n",
       "      <td>330.55</td>\n",
       "      <td>332.74</td>\n",
       "      <td>327.82</td>\n",
       "      <td>327.89</td>\n",
       "      <td>36.97020</td>\n",
       "      <td>1600390799999</td>\n",
       "      <td>12210.116147</td>\n",
       "      <td>67</td>\n",
       "      <td>28.28552</td>\n",
       "      <td>9349.888550</td>\n",
       "      <td>-0.008917</td>\n",
       "      <td>-0.008957</td>\n",
       "    </tr>\n",
       "    <tr>\n",
       "      <th>2020-09-18 03:00:00</th>\n",
       "      <td>2020-09-18 03:00:00</td>\n",
       "      <td>328.44</td>\n",
       "      <td>328.89</td>\n",
       "      <td>326.71</td>\n",
       "      <td>327.55</td>\n",
       "      <td>22.57869</td>\n",
       "      <td>1600394399999</td>\n",
       "      <td>7399.999454</td>\n",
       "      <td>48</td>\n",
       "      <td>17.83705</td>\n",
       "      <td>5846.267732</td>\n",
       "      <td>-0.001037</td>\n",
       "      <td>-0.001037</td>\n",
       "    </tr>\n",
       "    <tr>\n",
       "      <th>2020-09-18 04:00:00</th>\n",
       "      <td>2020-09-18 04:00:00</td>\n",
       "      <td>328.03</td>\n",
       "      <td>329.03</td>\n",
       "      <td>328.00</td>\n",
       "      <td>329.03</td>\n",
       "      <td>6.11775</td>\n",
       "      <td>1600397999999</td>\n",
       "      <td>2007.489221</td>\n",
       "      <td>18</td>\n",
       "      <td>5.61641</td>\n",
       "      <td>1842.958378</td>\n",
       "      <td>0.004518</td>\n",
       "      <td>0.004508</td>\n",
       "    </tr>\n",
       "  </tbody>\n",
       "</table>\n",
       "</div>"
      ],
      "text/plain": [
       "                               datetime    open    high     low   close  \\\n",
       "datetime                                                                  \n",
       "2020-09-18 00:00:00 2020-09-18 00:00:00  333.42  333.61  328.10  328.66   \n",
       "2020-09-18 01:00:00 2020-09-18 01:00:00  329.03  331.51  328.97  330.84   \n",
       "2020-09-18 02:00:00 2020-09-18 02:00:00  330.55  332.74  327.82  327.89   \n",
       "2020-09-18 03:00:00 2020-09-18 03:00:00  328.44  328.89  326.71  327.55   \n",
       "2020-09-18 04:00:00 2020-09-18 04:00:00  328.03  329.03  328.00  329.03   \n",
       "\n",
       "                        volume     close_time  asset_volume  trade_number  \\\n",
       "datetime                                                                    \n",
       "2020-09-18 00:00:00  139.97738  1600383599999  46280.287009           178   \n",
       "2020-09-18 01:00:00   87.69673  1600387199999  28935.421988           101   \n",
       "2020-09-18 02:00:00   36.97020  1600390799999  12210.116147            67   \n",
       "2020-09-18 03:00:00   22.57869  1600394399999   7399.999454            48   \n",
       "2020-09-18 04:00:00    6.11775  1600397999999   2007.489221            18   \n",
       "\n",
       "                     taker_buy_base  taker_buy_quote   returns  log_returns  \n",
       "datetime                                                                     \n",
       "2020-09-18 00:00:00       100.10222     33067.095465 -0.014483    -0.014589  \n",
       "2020-09-18 01:00:00        59.78995     19736.993195  0.006633     0.006611  \n",
       "2020-09-18 02:00:00        28.28552      9349.888550 -0.008917    -0.008957  \n",
       "2020-09-18 03:00:00        17.83705      5846.267732 -0.001037    -0.001037  \n",
       "2020-09-18 04:00:00         5.61641      1842.958378  0.004518     0.004508  "
      ]
     },
     "execution_count": 235,
     "metadata": {},
     "output_type": "execute_result"
    }
   ],
   "source": [
    "df.head()"
   ]
  },
  {
   "cell_type": "code",
   "execution_count": 236,
   "metadata": {},
   "outputs": [],
   "source": [
    "xtrain, ytrain = (np.array(xtrain),np.array(ytrain))\n",
    "xtrain = np.reshape(xtrain, (xtrain.shape[0],xtrain.shape[1],xtrain.shape[2]))\n",
    "\n",
    "xtest, ytest = (np.array(xtest),np.array(ytest))\n",
    "xtest = np.reshape(xtest,(xtest.shape[0],xtest.shape[1],xtest.shape[2]))"
   ]
  },
  {
   "cell_type": "code",
   "execution_count": 237,
   "metadata": {},
   "outputs": [
    {
     "name": "stdout",
     "output_type": "stream",
     "text": [
      "(395, 3, 2)\n",
      "(395,)\n",
      "(97, 3, 2)\n",
      "(97,)\n"
     ]
    }
   ],
   "source": [
    "print(xtrain.shape)\n",
    "print(ytrain.shape)\n",
    "print(xtest.shape)\n",
    "print(ytest.shape)"
   ]
  },
  {
   "cell_type": "code",
   "execution_count": 238,
   "metadata": {
    "collapsed": true,
    "jupyter": {
     "outputs_hidden": true
    }
   },
   "outputs": [
    {
     "name": "stdout",
     "output_type": "stream",
     "text": [
      "Train on 395 samples, validate on 97 samples\n",
      "Epoch 1/100\n",
      "395/395 [==============================] - 2s 4ms/sample - loss: 0.1460 - val_loss: 0.0287\n",
      "Epoch 2/100\n",
      "395/395 [==============================] - 0s 203us/sample - loss: 0.0609 - val_loss: 0.0047\n",
      "Epoch 3/100\n",
      "395/395 [==============================] - 0s 208us/sample - loss: 0.0240 - val_loss: 0.0053\n",
      "Epoch 4/100\n",
      "395/395 [==============================] - 0s 205us/sample - loss: 0.0138 - val_loss: 0.0095\n",
      "Epoch 5/100\n",
      "395/395 [==============================] - 0s 198us/sample - loss: 0.0122 - val_loss: 0.0105\n",
      "Epoch 6/100\n",
      "395/395 [==============================] - 0s 205us/sample - loss: 0.0112 - val_loss: 0.0089\n",
      "Epoch 7/100\n",
      "395/395 [==============================] - 0s 208us/sample - loss: 0.0102 - val_loss: 0.0082\n",
      "Epoch 8/100\n",
      "395/395 [==============================] - 0s 200us/sample - loss: 0.0091 - val_loss: 0.0070\n",
      "Epoch 9/100\n",
      "395/395 [==============================] - 0s 198us/sample - loss: 0.0081 - val_loss: 0.0063\n",
      "Epoch 10/100\n",
      "395/395 [==============================] - 0s 198us/sample - loss: 0.0072 - val_loss: 0.0055\n",
      "Epoch 11/100\n",
      "395/395 [==============================] - 0s 205us/sample - loss: 0.0063 - val_loss: 0.0047\n",
      "Epoch 12/100\n",
      "395/395 [==============================] - 0s 205us/sample - loss: 0.0055 - val_loss: 0.0040\n",
      "Epoch 13/100\n",
      "395/395 [==============================] - 0s 200us/sample - loss: 0.0048 - val_loss: 0.0033\n",
      "Epoch 14/100\n",
      "395/395 [==============================] - 0s 208us/sample - loss: 0.0043 - val_loss: 0.0030\n",
      "Epoch 15/100\n",
      "395/395 [==============================] - 0s 205us/sample - loss: 0.0038 - val_loss: 0.0025\n",
      "Epoch 16/100\n",
      "395/395 [==============================] - 0s 210us/sample - loss: 0.0034 - val_loss: 0.0022\n",
      "Epoch 17/100\n",
      "395/395 [==============================] - 0s 203us/sample - loss: 0.0031 - val_loss: 0.0020\n",
      "Epoch 18/100\n",
      "395/395 [==============================] - 0s 208us/sample - loss: 0.0029 - val_loss: 0.0018\n",
      "Epoch 19/100\n",
      "395/395 [==============================] - 0s 208us/sample - loss: 0.0027 - val_loss: 0.0016\n",
      "Epoch 20/100\n",
      "395/395 [==============================] - 0s 215us/sample - loss: 0.0026 - val_loss: 0.0017\n",
      "Epoch 21/100\n",
      "395/395 [==============================] - 0s 215us/sample - loss: 0.0025 - val_loss: 0.0015\n",
      "Epoch 22/100\n",
      "395/395 [==============================] - 0s 210us/sample - loss: 0.0024 - val_loss: 0.0015\n",
      "Epoch 23/100\n",
      "395/395 [==============================] - 0s 208us/sample - loss: 0.0024 - val_loss: 0.0014\n",
      "Epoch 24/100\n",
      "395/395 [==============================] - 0s 203us/sample - loss: 0.0023 - val_loss: 0.0014\n",
      "Epoch 25/100\n",
      "395/395 [==============================] - 0s 200us/sample - loss: 0.0023 - val_loss: 0.0014\n",
      "Epoch 26/100\n",
      "395/395 [==============================] - 0s 213us/sample - loss: 0.0023 - val_loss: 0.0014\n",
      "Epoch 27/100\n",
      "395/395 [==============================] - 0s 198us/sample - loss: 0.0022 - val_loss: 0.0014\n",
      "Epoch 28/100\n",
      "395/395 [==============================] - 0s 205us/sample - loss: 0.0022 - val_loss: 0.0014\n",
      "Epoch 29/100\n",
      "395/395 [==============================] - 0s 200us/sample - loss: 0.0022 - val_loss: 0.0013\n",
      "Epoch 30/100\n",
      "395/395 [==============================] - 0s 210us/sample - loss: 0.0021 - val_loss: 0.0013\n",
      "Epoch 31/100\n",
      "395/395 [==============================] - 0s 203us/sample - loss: 0.0021 - val_loss: 0.0013\n",
      "Epoch 32/100\n",
      "395/395 [==============================] - 0s 205us/sample - loss: 0.0021 - val_loss: 0.0013\n",
      "Epoch 33/100\n",
      "395/395 [==============================] - 0s 200us/sample - loss: 0.0020 - val_loss: 0.0013\n",
      "Epoch 34/100\n",
      "395/395 [==============================] - 0s 198us/sample - loss: 0.0020 - val_loss: 0.0013\n",
      "Epoch 35/100\n",
      "395/395 [==============================] - 0s 210us/sample - loss: 0.0020 - val_loss: 0.0012\n",
      "Epoch 36/100\n",
      "395/395 [==============================] - 0s 213us/sample - loss: 0.0020 - val_loss: 0.0012\n",
      "Epoch 37/100\n",
      "395/395 [==============================] - 0s 200us/sample - loss: 0.0019 - val_loss: 0.0012\n",
      "Epoch 38/100\n",
      "395/395 [==============================] - 0s 203us/sample - loss: 0.0019 - val_loss: 0.0012\n",
      "Epoch 39/100\n",
      "395/395 [==============================] - 0s 205us/sample - loss: 0.0019 - val_loss: 0.0012\n",
      "Epoch 40/100\n",
      "395/395 [==============================] - 0s 203us/sample - loss: 0.0019 - val_loss: 0.0012\n",
      "Epoch 41/100\n",
      "395/395 [==============================] - 0s 200us/sample - loss: 0.0018 - val_loss: 0.0011\n",
      "Epoch 42/100\n",
      "395/395 [==============================] - 0s 200us/sample - loss: 0.0018 - val_loss: 0.0011\n",
      "Epoch 43/100\n",
      "395/395 [==============================] - 0s 203us/sample - loss: 0.0018 - val_loss: 0.0011\n",
      "Epoch 44/100\n",
      "395/395 [==============================] - 0s 200us/sample - loss: 0.0018 - val_loss: 0.0011\n",
      "Epoch 45/100\n",
      "395/395 [==============================] - 0s 203us/sample - loss: 0.0017 - val_loss: 0.0011\n",
      "Epoch 46/100\n",
      "395/395 [==============================] - 0s 200us/sample - loss: 0.0017 - val_loss: 0.0011\n",
      "Epoch 47/100\n",
      "395/395 [==============================] - 0s 198us/sample - loss: 0.0017 - val_loss: 0.0011\n",
      "Epoch 48/100\n",
      "395/395 [==============================] - 0s 205us/sample - loss: 0.0017 - val_loss: 0.0011\n",
      "Epoch 49/100\n",
      "395/395 [==============================] - 0s 203us/sample - loss: 0.0017 - val_loss: 0.0010\n",
      "Epoch 50/100\n",
      "395/395 [==============================] - 0s 192us/sample - loss: 0.0016 - val_loss: 0.0010\n",
      "Epoch 51/100\n",
      "395/395 [==============================] - 0s 195us/sample - loss: 0.0016 - val_loss: 0.0010\n",
      "Epoch 52/100\n",
      "395/395 [==============================] - 0s 195us/sample - loss: 0.0016 - val_loss: 0.0010\n",
      "Epoch 53/100\n",
      "395/395 [==============================] - 0s 192us/sample - loss: 0.0016 - val_loss: 0.0010\n",
      "Epoch 54/100\n",
      "395/395 [==============================] - 0s 198us/sample - loss: 0.0016 - val_loss: 0.0010\n",
      "Epoch 55/100\n",
      "395/395 [==============================] - 0s 195us/sample - loss: 0.0016 - val_loss: 9.9505e-04\n",
      "Epoch 56/100\n",
      "395/395 [==============================] - 0s 198us/sample - loss: 0.0015 - val_loss: 9.7519e-04\n",
      "Epoch 57/100\n",
      "395/395 [==============================] - 0s 198us/sample - loss: 0.0015 - val_loss: 9.8908e-04\n",
      "Epoch 58/100\n",
      "395/395 [==============================] - 0s 192us/sample - loss: 0.0015 - val_loss: 9.9121e-04\n",
      "Epoch 59/100\n",
      "395/395 [==============================] - 0s 192us/sample - loss: 0.0016 - val_loss: 9.6820e-04\n",
      "Epoch 60/100\n",
      "395/395 [==============================] - 0s 192us/sample - loss: 0.0015 - val_loss: 9.4319e-04\n",
      "Epoch 61/100\n",
      "395/395 [==============================] - 0s 195us/sample - loss: 0.0015 - val_loss: 9.3882e-04\n",
      "Epoch 62/100\n",
      "395/395 [==============================] - 0s 195us/sample - loss: 0.0015 - val_loss: 9.3270e-04\n",
      "Epoch 63/100\n",
      "395/395 [==============================] - 0s 195us/sample - loss: 0.0015 - val_loss: 9.8615e-04\n",
      "Epoch 64/100\n",
      "395/395 [==============================] - 0s 195us/sample - loss: 0.0014 - val_loss: 9.3585e-04\n",
      "Epoch 65/100\n",
      "395/395 [==============================] - 0s 200us/sample - loss: 0.0015 - val_loss: 9.1427e-04\n",
      "Epoch 66/100\n",
      "395/395 [==============================] - 0s 198us/sample - loss: 0.0014 - val_loss: 9.1929e-04\n",
      "Epoch 67/100\n",
      "395/395 [==============================] - 0s 195us/sample - loss: 0.0014 - val_loss: 9.2698e-04\n",
      "Epoch 68/100\n",
      "395/395 [==============================] - 0s 198us/sample - loss: 0.0014 - val_loss: 9.0039e-04\n",
      "Epoch 69/100\n",
      "395/395 [==============================] - 0s 198us/sample - loss: 0.0014 - val_loss: 9.0733e-04\n",
      "Epoch 70/100\n",
      "395/395 [==============================] - 0s 198us/sample - loss: 0.0014 - val_loss: 8.9760e-04\n",
      "Epoch 71/100\n",
      "395/395 [==============================] - 0s 200us/sample - loss: 0.0014 - val_loss: 8.8616e-04\n",
      "Epoch 72/100\n",
      "395/395 [==============================] - 0s 198us/sample - loss: 0.0014 - val_loss: 8.8928e-04\n",
      "Epoch 73/100\n",
      "395/395 [==============================] - 0s 192us/sample - loss: 0.0014 - val_loss: 8.8097e-04\n",
      "Epoch 74/100\n",
      "395/395 [==============================] - 0s 192us/sample - loss: 0.0014 - val_loss: 8.8188e-04\n",
      "Epoch 75/100\n",
      "395/395 [==============================] - 0s 187us/sample - loss: 0.0014 - val_loss: 8.7153e-04\n",
      "Epoch 76/100\n",
      "395/395 [==============================] - 0s 195us/sample - loss: 0.0014 - val_loss: 8.7986e-04\n",
      "Epoch 77/100\n",
      "395/395 [==============================] - 0s 195us/sample - loss: 0.0014 - val_loss: 8.7654e-04\n",
      "Epoch 78/100\n",
      "395/395 [==============================] - 0s 192us/sample - loss: 0.0013 - val_loss: 8.7885e-04\n",
      "Epoch 79/100\n",
      "395/395 [==============================] - 0s 192us/sample - loss: 0.0013 - val_loss: 8.5479e-04\n",
      "Epoch 80/100\n",
      "395/395 [==============================] - 0s 187us/sample - loss: 0.0013 - val_loss: 8.5434e-04\n",
      "Epoch 81/100\n",
      "395/395 [==============================] - 0s 195us/sample - loss: 0.0013 - val_loss: 8.7752e-04\n",
      "Epoch 82/100\n",
      "395/395 [==============================] - 0s 192us/sample - loss: 0.0013 - val_loss: 8.9174e-04\n",
      "Epoch 83/100\n",
      "395/395 [==============================] - 0s 190us/sample - loss: 0.0013 - val_loss: 8.5498e-04\n",
      "Epoch 84/100\n",
      "395/395 [==============================] - 0s 192us/sample - loss: 0.0013 - val_loss: 8.5517e-04\n",
      "Epoch 85/100\n",
      "395/395 [==============================] - 0s 195us/sample - loss: 0.0013 - val_loss: 8.3965e-04\n",
      "Epoch 86/100\n",
      "395/395 [==============================] - 0s 192us/sample - loss: 0.0013 - val_loss: 8.3985e-04\n",
      "Epoch 87/100\n",
      "395/395 [==============================] - 0s 192us/sample - loss: 0.0013 - val_loss: 8.3818e-04\n",
      "Epoch 88/100\n",
      "395/395 [==============================] - 0s 190us/sample - loss: 0.0013 - val_loss: 8.4161e-04\n",
      "Epoch 89/100\n",
      "395/395 [==============================] - 0s 187us/sample - loss: 0.0013 - val_loss: 8.3568e-04\n",
      "Epoch 90/100\n",
      "395/395 [==============================] - 0s 195us/sample - loss: 0.0013 - val_loss: 9.3122e-04\n",
      "Epoch 91/100\n",
      "395/395 [==============================] - 0s 187us/sample - loss: 0.0013 - val_loss: 8.2923e-04\n",
      "Epoch 92/100\n",
      "395/395 [==============================] - 0s 190us/sample - loss: 0.0013 - val_loss: 8.2531e-04\n",
      "Epoch 93/100\n",
      "395/395 [==============================] - 0s 190us/sample - loss: 0.0013 - val_loss: 8.2749e-04\n",
      "Epoch 94/100\n",
      "395/395 [==============================] - 0s 190us/sample - loss: 0.0013 - val_loss: 8.2455e-04\n",
      "Epoch 95/100\n",
      "395/395 [==============================] - 0s 187us/sample - loss: 0.0013 - val_loss: 8.2250e-04\n",
      "Epoch 96/100\n",
      "395/395 [==============================] - 0s 187us/sample - loss: 0.0013 - val_loss: 8.4911e-04\n",
      "Epoch 97/100\n",
      "395/395 [==============================] - 0s 190us/sample - loss: 0.0013 - val_loss: 8.1790e-04\n",
      "Epoch 98/100\n",
      "395/395 [==============================] - 0s 192us/sample - loss: 0.0013 - val_loss: 8.1451e-04\n",
      "Epoch 99/100\n",
      "395/395 [==============================] - 0s 192us/sample - loss: 0.0013 - val_loss: 8.4610e-04\n",
      "Epoch 100/100\n",
      "395/395 [==============================] - 0s 187us/sample - loss: 0.0013 - val_loss: 8.2953e-04\n"
     ]
    },
    {
     "data": {
      "text/plain": [
       "<tensorflow.python.keras.callbacks.History at 0x1d678511648>"
      ]
     },
     "execution_count": 238,
     "metadata": {},
     "output_type": "execute_result"
    }
   ],
   "source": [
    "model = Sequential()\n",
    "model.add(LSTM(4, input_shape=(xtrain.shape[1],xtrain.shape[2])))\n",
    "model.add(Dense(1))\n",
    "model.compile(loss='mean_squared_error', optimizer='adam')\n",
    "model.fit(xtrain,ytrain,epochs=100, validation_data=(xtest,ytest),batch_size=16,verbose=1)"
   ]
  },
  {
   "cell_type": "code",
   "execution_count": 239,
   "metadata": {},
   "outputs": [
    {
     "name": "stdout",
     "output_type": "stream",
     "text": [
      "Model: \"sequential_6\"\n",
      "_________________________________________________________________\n",
      "Layer (type)                 Output Shape              Param #   \n",
      "=================================================================\n",
      "lstm_6 (LSTM)                (None, 4)                 112       \n",
      "_________________________________________________________________\n",
      "dense_6 (Dense)              (None, 1)                 5         \n",
      "=================================================================\n",
      "Total params: 117\n",
      "Trainable params: 117\n",
      "Non-trainable params: 0\n",
      "_________________________________________________________________\n"
     ]
    }
   ],
   "source": [
    "model.summary()"
   ]
  },
  {
   "cell_type": "code",
   "execution_count": 240,
   "metadata": {},
   "outputs": [],
   "source": [
    "trainPredict = model.predict(xtrain)\n",
    "testPredict = model.predict(xtest)"
   ]
  },
  {
   "cell_type": "code",
   "execution_count": 241,
   "metadata": {},
   "outputs": [],
   "source": [
    "trainPredict = np.c_[trainPredict, np.zeros(trainPredict.shape)]\n",
    "testPredict = np.c_[testPredict, np.zeros(testPredict.shape)]"
   ]
  },
  {
   "cell_type": "code",
   "execution_count": 242,
   "metadata": {},
   "outputs": [],
   "source": [
    "#invert predictions\n",
    "trainPredict = scaler.inverse_transform(trainPredict)\n",
    "trainPredict = [x[0] for x in trainPredict]\n",
    "\n",
    "testPredict = scaler.inverse_transform(testPredict)\n",
    "testPredict = [x[0] for x in testPredict]"
   ]
  },
  {
   "cell_type": "code",
   "execution_count": 243,
   "metadata": {},
   "outputs": [
    {
     "name": "stdout",
     "output_type": "stream",
     "text": [
      "[298.5989326047897, 298.10148642718787, 298.5626485362649, 298.81437159776686, 300.640010997951, 302.5804440447688, 302.4522967818379, 301.85738561898467, 301.42133649915456, 301.4220873048901, 303.23055730551476, 302.5437228187918, 303.2695179477334, 300.93721956104037, 301.02825881928203, 301.39927548646926, 300.46598657935857, 300.5376267725229, 299.8642515349388, 300.6235095229745, 300.63129547595975, 300.1870996263623, 300.6465504834056, 300.91855017513035, 301.5433505567908, 301.32889151155945, 301.81575652867554, 300.14232267737384, 300.0456133732199, 299.77326265543695, 300.3992396244406, 300.8983954289555, 301.05444926351305, 301.8964892718196, 300.5426500204205, 300.4127785044908, 300.2298175475001, 301.36152393400664, 301.77170925885434, 301.5964594992995, 301.4768619960546, 299.1776526907086, 299.6078253743052, 299.75339718073604, 298.86211926728487, 295.4876277640462, 294.5807324412465, 294.5302366927266, 294.5487988206744, 298.6552999141812, 298.70351074308155, 298.3939480128884, 293.5030694416165, 291.13453411489724, 288.8371660712361, 289.9833067792654, 290.2404886209965, 291.89561223804947, 291.5698941835761, 289.4602820153534, 289.11372910171747, 288.66748153731226, 289.8281199465692, 290.7557201188802, 291.69489521294827, 292.1638806527853, 291.0470278689265, 289.963871961534, 290.08979768455026, 290.03585180491206, 290.8671400150657, 290.9795788618922, 291.6667529988289, 291.2316903272271, 289.5595175695419, 289.497629725337, 290.89853084534406, 291.92861356288194, 291.6342554613948, 290.7311807972192, 290.4676187318563, 291.29362692505117, 290.8784849822521, 290.58066537380216, 289.29962502658367, 289.7042101857066, 290.16875254571437, 289.8411493512988, 289.69199090361593, 287.8792565864324, 286.94446119248863, 286.8941693966091, 288.93221531465645, 289.4334390851855, 291.2666401717066, 293.69025733739136, 298.2649264350533]\n"
     ]
    }
   ],
   "source": [
    "print(testPredict)"
   ]
  },
  {
   "cell_type": "code",
   "execution_count": 244,
   "metadata": {},
   "outputs": [
    {
     "name": "stdout",
     "output_type": "stream",
     "text": [
      "295.3975961890278\n"
     ]
    }
   ],
   "source": [
    "testScore = mean_squared_error([x[0][0] for x in xtest], testPredict, squared=False)\n",
    "print(testScore)"
   ]
  },
  {
   "cell_type": "code",
   "execution_count": 245,
   "metadata": {},
   "outputs": [
    {
     "data": {
      "text/plain": [
       "97"
      ]
     },
     "execution_count": 245,
     "metadata": {},
     "output_type": "execute_result"
    }
   ],
   "source": [
    "len(predictions)"
   ]
  },
  {
   "cell_type": "code",
   "execution_count": 247,
   "metadata": {},
   "outputs": [
    {
     "name": "stderr",
     "output_type": "stream",
     "text": [
      "E:\\AnacondA\\envs\\matrixai\\lib\\site-packages\\ipykernel_launcher.py:4: SettingWithCopyWarning: \n",
      "A value is trying to be set on a copy of a slice from a DataFrame.\n",
      "Try using .loc[row_indexer,col_indexer] = value instead\n",
      "\n",
      "See the caveats in the documentation: https://pandas.pydata.org/pandas-docs/stable/user_guide/indexing.html#returning-a-view-versus-a-copy\n",
      "  after removing the cwd from sys.path.\n"
     ]
    },
    {
     "data": {
      "image/png": "[encoded data removed]",
      "text/plain": [
       "<Figure size 1152x576 with 1 Axes>"
      ]
     },
     "metadata": {
      "needs_background": "light"
     },
     "output_type": "display_data"
    }
   ],
   "source": [
    "predictions = testPredict\n",
    "\n",
    "valid = df[401:]\n",
    "valid['Predictions'] = predictions\n",
    "plt.figure(figsize=(16,8))\n",
    "plt.title('LSTM/RNN')\n",
    "plt.plot(df['close'][300:])\n",
    "plt.plot(valid[['close','Predictions']])\n",
    "plt.legend(['Train','Test Data','Prediction'])\n",
    "plt.xlabel('Tickrate once every 1 Hour')\n",
    "plt.ylabel('Close Price in Euro')\n",
    "plt.show()"
   ]
  },
  {
   "cell_type": "markdown",
   "metadata": {},
   "source": [
    "# Double BAM!"
   ]
  }
 ],
 "metadata": {
  "kernelspec": {
   "display_name": "Python 3",
   "language": "python",
   "name": "python3"
  },
  "language_info": {
   "codemirror_mode": {
    "name": "ipython",
    "version": 3
   },
   "file_extension": ".py",
   "mimetype": "text/x-python",
   "name": "python",
   "nbconvert_exporter": "python",
   "pygments_lexer": "ipython3",
   "version": "3.7.9"
  }
 },
 "nbformat": 4,
 "nbformat_minor": 4
}
