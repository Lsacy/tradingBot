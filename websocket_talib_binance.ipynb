{
 "cells": [
  {
   "cell_type": "code",
   "execution_count": 7,
   "metadata": {},
   "outputs": [],
   "source": [
    "# Binance HMC SHA256 \n",
    "apikey = 'un5yL1gmZeQf4Gt5L6Us2q3BjdwDrqzjkTDrjFT2LA8N8BblIaTP4XMi3ydrKgWU'\n",
    "secretkey ='hHi3oZegL9IGxvdpGUB6fz6XFcwtBXHXJHQtVL8wt5MupfWdQok0bZ2kyFV50fP7'"
   ]
  },
  {
   "cell_type": "code",
   "execution_count": 8,
   "metadata": {},
   "outputs": [],
   "source": [
    "import talib"
   ]
  },
  {
   "cell_type": "code",
   "execution_count": 9,
   "metadata": {},
   "outputs": [],
   "source": [
    "import json"
   ]
  },
  {
   "cell_type": "code",
   "execution_count": 10,
   "metadata": {},
   "outputs": [],
   "source": [
    "import pprint"
   ]
  },
  {
   "cell_type": "code",
   "execution_count": 11,
   "metadata": {},
   "outputs": [],
   "source": [
    "from binance.enums import *"
   ]
  },
  {
   "cell_type": "code",
   "execution_count": 12,
   "metadata": {},
   "outputs": [],
   "source": [
    "from binance.client import Client"
   ]
  },
  {
   "cell_type": "code",
   "execution_count": 15,
   "metadata": {},
   "outputs": [],
   "source": [
    "import websocket"
   ]
  },
  {
   "cell_type": "code",
   "execution_count": 16,
   "metadata": {},
   "outputs": [],
   "source": [
    "import numpy as np"
   ]
  },
  {
   "cell_type": "code",
   "execution_count": 21,
   "metadata": {},
   "outputs": [],
   "source": [
    "# creating socket connection to binance with the type of coin and price interval (etherium, 1 min)\n",
    "SOCKET = 'wss://stream.binance.com:9443/ws/ethusdt@kline_1m'"
   ]
  },
  {
   "cell_type": "code",
   "execution_count": 23,
   "metadata": {},
   "outputs": [],
   "source": [
    "def on_open(ws):\n",
    "    print('opened connection')"
   ]
  },
  {
   "cell_type": "code",
   "execution_count": 24,
   "metadata": {},
   "outputs": [],
   "source": [
    "def on_close(ws):\n",
    "    print('closed connection')"
   ]
  },
  {
   "cell_type": "code",
   "execution_count": 45,
   "metadata": {},
   "outputs": [],
   "source": [
    "def on_message(ws, message):\n",
    "    print('received message')\n",
    "    json_message = json.loads(message)\n",
    "    pprint.pprint(message)\n",
    "    \n",
    "    candle = message['k']\n",
    "    is_candle_closed = candle['x']\n",
    "    if is_candle_close:\n",
    "        print('candle closed {}'.format(close))\n",
    "        closes.append(float(close))\n",
    "        print('closes')\n",
    "        print(closes)"
   ]
  },
  {
   "cell_type": "code",
   "execution_count": 46,
   "metadata": {},
   "outputs": [],
   "source": [
    "ws = websocket.WebSocketApp(SOCKET, on_open=on_open, on_close=on_close, on_message=on_message)"
   ]
  },
  {
   "cell_type": "code",
   "execution_count": 47,
   "metadata": {},
   "outputs": [
    {
     "name": "stdout",
     "output_type": "stream",
     "text": [
      "opened connection\n",
      "received message\n",
      "'{\"e\":\"kline\",\"E\":1601912851511,\"s\":\"ETHUSDT\",\"k\":{\"t\":1601912820000,\"T\":1601912879999,\"s\":\"ETHUSDT\",\"i\":\"1m\",\"f\":194076436,\"L\":194076464,\"o\":\"352.77000000\",\"c\":\"352.74000000\",\"h\":\"352.78000000\",\"l\":\"352.73000000\",\"v\":\"24.08405000\",\"n\":29,\"x\":false,\"q\":\"8495.97702530\",\"V\":\"19.78480000\",\"Q\":\"6979.37473120\",\"B\":\"0\"}}'\n",
      "received message\n",
      "'{\"e\":\"kline\",\"E\":1601912854203,\"s\":\"ETHUSDT\",\"k\":{\"t\":1601912820000,\"T\":1601912879999,\"s\":\"ETHUSDT\",\"i\":\"1m\",\"f\":194076436,\"L\":194076465,\"o\":\"352.77000000\",\"c\":\"352.73000000\",\"h\":\"352.78000000\",\"l\":\"352.73000000\",\"v\":\"24.11599000\",\"n\":30,\"x\":false,\"q\":\"8507.24322150\",\"V\":\"19.78480000\",\"Q\":\"6979.37473120\",\"B\":\"0\"}}'\n",
      "received message\n",
      "'{\"e\":\"kline\",\"E\":1601912860973,\"s\":\"ETHUSDT\",\"k\":{\"t\":1601912820000,\"T\":1601912879999,\"s\":\"ETHUSDT\",\"i\":\"1m\",\"f\":194076436,\"L\":194076466,\"o\":\"352.77000000\",\"c\":\"352.73000000\",\"h\":\"352.78000000\",\"l\":\"352.73000000\",\"v\":\"24.15232000\",\"n\":31,\"x\":false,\"q\":\"8520.05790240\",\"V\":\"19.78480000\",\"Q\":\"6979.37473120\",\"B\":\"0\"}}'\n",
      "received message\n",
      "'{\"e\":\"kline\",\"E\":1601912864084,\"s\":\"ETHUSDT\",\"k\":{\"t\":1601912820000,\"T\":1601912879999,\"s\":\"ETHUSDT\",\"i\":\"1m\",\"f\":194076436,\"L\":194076469,\"o\":\"352.77000000\",\"c\":\"352.73000000\",\"h\":\"352.78000000\",\"l\":\"352.73000000\",\"v\":\"24.51733000\",\"n\":34,\"x\":false,\"q\":\"8648.80787970\",\"V\":\"19.78480000\",\"Q\":\"6979.37473120\",\"B\":\"0\"}}'\n",
      "received message\n",
      "'{\"e\":\"kline\",\"E\":1601912869177,\"s\":\"ETHUSDT\",\"k\":{\"t\":1601912820000,\"T\":1601912879999,\"s\":\"ETHUSDT\",\"i\":\"1m\",\"f\":194076436,\"L\":194076470,\"o\":\"352.77000000\",\"c\":\"352.73000000\",\"h\":\"352.78000000\",\"l\":\"352.73000000\",\"v\":\"25.01733000\",\"n\":35,\"x\":false,\"q\":\"8825.17287970\",\"V\":\"19.78480000\",\"Q\":\"6979.37473120\",\"B\":\"0\"}}'\n",
      "received message\n",
      "'{\"e\":\"kline\",\"E\":1601912873117,\"s\":\"ETHUSDT\",\"k\":{\"t\":1601912820000,\"T\":1601912879999,\"s\":\"ETHUSDT\",\"i\":\"1m\",\"f\":194076436,\"L\":194076472,\"o\":\"352.77000000\",\"c\":\"352.74000000\",\"h\":\"352.78000000\",\"l\":\"352.73000000\",\"v\":\"25.10563000\",\"n\":37,\"x\":false,\"q\":\"8856.31948360\",\"V\":\"19.83929000\",\"Q\":\"6998.59553380\",\"B\":\"0\"}}'\n",
      "received message\n",
      "'{\"e\":\"kline\",\"E\":1601912876529,\"s\":\"ETHUSDT\",\"k\":{\"t\":1601912820000,\"T\":1601912879999,\"s\":\"ETHUSDT\",\"i\":\"1m\",\"f\":194076436,\"L\":194076473,\"o\":\"352.77000000\",\"c\":\"352.74000000\",\"h\":\"352.78000000\",\"l\":\"352.73000000\",\"v\":\"35.12563000\",\"n\":38,\"x\":false,\"q\":\"12390.77428360\",\"V\":\"29.85929000\",\"Q\":\"10533.05033380\",\"B\":\"0\"}}'\n",
      "received message\n",
      "'{\"e\":\"kline\",\"E\":1601912878870,\"s\":\"ETHUSDT\",\"k\":{\"t\":1601912820000,\"T\":1601912879999,\"s\":\"ETHUSDT\",\"i\":\"1m\",\"f\":194076436,\"L\":194076474,\"o\":\"352.77000000\",\"c\":\"352.73000000\",\"h\":\"352.78000000\",\"l\":\"352.73000000\",\"v\":\"35.15719000\",\"n\":39,\"x\":false,\"q\":\"12401.90644240\",\"V\":\"29.85929000\",\"Q\":\"10533.05033380\",\"B\":\"0\"}}'\n",
      "received message\n",
      "'{\"e\":\"kline\",\"E\":1601912882274,\"s\":\"ETHUSDT\",\"k\":{\"t\":1601912820000,\"T\":1601912879999,\"s\":\"ETHUSDT\",\"i\":\"1m\",\"f\":194076436,\"L\":194076474,\"o\":\"352.77000000\",\"c\":\"352.73000000\",\"h\":\"352.78000000\",\"l\":\"352.73000000\",\"v\":\"35.15719000\",\"n\":39,\"x\":true,\"q\":\"12401.90644240\",\"V\":\"29.85929000\",\"Q\":\"10533.05033380\",\"B\":\"0\"}}'\n",
      "received message\n",
      "'{\"e\":\"kline\",\"E\":1601912884651,\"s\":\"ETHUSDT\",\"k\":{\"t\":1601912880000,\"T\":1601912939999,\"s\":\"ETHUSDT\",\"i\":\"1m\",\"f\":194076475,\"L\":194076475,\"o\":\"352.74000000\",\"c\":\"352.74000000\",\"h\":\"352.74000000\",\"l\":\"352.74000000\",\"v\":\"0.38741000\",\"n\":1,\"x\":false,\"q\":\"136.65500340\",\"V\":\"0.38741000\",\"Q\":\"136.65500340\",\"B\":\"0\"}}'\n",
      "received message\n",
      "'{\"e\":\"kline\",\"E\":1601912887080,\"s\":\"ETHUSDT\",\"k\":{\"t\":1601912880000,\"T\":1601912939999,\"s\":\"ETHUSDT\",\"i\":\"1m\",\"f\":194076475,\"L\":194076478,\"o\":\"352.74000000\",\"c\":\"352.73000000\",\"h\":\"352.74000000\",\"l\":\"352.73000000\",\"v\":\"6.42074000\",\"n\":4,\"x\":false,\"q\":\"2264.79149430\",\"V\":\"0.38741000\",\"Q\":\"136.65500340\",\"B\":\"0\"}}'\n",
      "received message\n",
      "'{\"e\":\"kline\",\"E\":1601912889128,\"s\":\"ETHUSDT\",\"k\":{\"t\":1601912880000,\"T\":1601912939999,\"s\":\"ETHUSDT\",\"i\":\"1m\",\"f\":194076475,\"L\":194076481,\"o\":\"352.74000000\",\"c\":\"352.69000000\",\"h\":\"352.74000000\",\"l\":\"352.69000000\",\"v\":\"10.83985000\",\"n\":7,\"x\":false,\"q\":\"3823.47366780\",\"V\":\"2.14983000\",\"Q\":\"758.24291320\",\"B\":\"0\"}}'\n",
      "received message\n",
      "'{\"e\":\"kline\",\"E\":1601912891239,\"s\":\"ETHUSDT\",\"k\":{\"t\":1601912880000,\"T\":1601912939999,\"s\":\"ETHUSDT\",\"i\":\"1m\",\"f\":194076475,\"L\":194076522,\"o\":\"352.74000000\",\"c\":\"352.59000000\",\"h\":\"352.74000000\",\"l\":\"352.56000000\",\"v\":\"207.81606000\",\"n\":48,\"x\":false,\"q\":\"73280.05494700\",\"V\":\"164.81151000\",\"Q\":\"58113.83068550\",\"B\":\"0\"}}'\n",
      "received message\n",
      "'{\"e\":\"kline\",\"E\":1601912893265,\"s\":\"ETHUSDT\",\"k\":{\"t\":1601912880000,\"T\":1601912939999,\"s\":\"ETHUSDT\",\"i\":\"1m\",\"f\":194076475,\"L\":194076529,\"o\":\"352.74000000\",\"c\":\"352.58000000\",\"h\":\"352.74000000\",\"l\":\"352.56000000\",\"v\":\"255.88642000\",\"n\":55,\"x\":false,\"q\":\"90228.92728580\",\"V\":\"187.29251000\",\"Q\":\"66040.40647550\",\"B\":\"0\"}}'\n",
      "received message\n",
      "'{\"e\":\"kline\",\"E\":1601912895265,\"s\":\"ETHUSDT\",\"k\":{\"t\":1601912880000,\"T\":1601912939999,\"s\":\"ETHUSDT\",\"i\":\"1m\",\"f\":194076475,\"L\":194076541,\"o\":\"352.74000000\",\"c\":\"352.53000000\",\"h\":\"352.74000000\",\"l\":\"352.53000000\",\"v\":\"266.17429000\",\"n\":67,\"x\":false,\"q\":\"93855.80963760\",\"V\":\"197.24658000\",\"Q\":\"69549.61431330\",\"B\":\"0\"}}'\n",
      "opened connection\n"
     ]
    },
    {
     "data": {
      "text/plain": [
       "False"
      ]
     },
     "execution_count": 47,
     "metadata": {},
     "output_type": "execute_result"
    }
   ],
   "source": [
    "ws.run_forever()"
   ]
  },
  {
   "cell_type": "code",
   "execution_count": null,
   "metadata": {},
   "outputs": [],
   "source": []
  }
 ],
 "metadata": {
  "kernelspec": {
   "display_name": "Python 3",
   "language": "python",
   "name": "python3"
  },
  "language_info": {
   "codemirror_mode": {
    "name": "ipython",
    "version": 3
   },
   "file_extension": ".py",
   "mimetype": "text/x-python",
   "name": "python",
   "nbconvert_exporter": "python",
   "pygments_lexer": "ipython3",
   "version": "3.7.9"
  }
 },
 "nbformat": 4,
 "nbformat_minor": 4
}
